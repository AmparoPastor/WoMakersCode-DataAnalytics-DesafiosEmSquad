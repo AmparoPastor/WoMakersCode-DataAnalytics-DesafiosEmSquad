{
  "nbformat": 4,
  "nbformat_minor": 0,
  "metadata": {
    "colab": {
      "provenance": [],
      "include_colab_link": true
    },
    "kernelspec": {
      "name": "python3",
      "display_name": "Python 3"
    },
    "language_info": {
      "name": "python"
    }
  },
  "cells": [
    {
      "cell_type": "markdown",
      "metadata": {
        "id": "view-in-github",
        "colab_type": "text"
      },
      "source": [
        "<a href=\"https://colab.research.google.com/github/devLarissaRodrigues/WoMakersCode-DataAnalytics-DesafiosEmSquad/blob/etapa5/desafio2_completo_em_squad.ipynb\" target=\"_parent\"><img src=\"https://colab.research.google.com/assets/colab-badge.svg\" alt=\"Open In Colab\"/></a>"
      ]
    },
    {
      "cell_type": "markdown",
      "source": [
        "## Descrição do desafio intitulado: O perfil do Catálogo da Netflix\n",
        "Esse desafio tem como objetivo responder algumas perguntas através da análise de dados, aprofundando o conhecimento em frequência e medidas. Os dados que deverão ser utilizado nesse script foram baixados do kaggle, e podem ser acessados através do link:  https://www.kaggle.com/code/shivamb/netflix-shows-and-movies-exploratory-analysis. Este conjunto de dados consiste na lista de filmes e suas respectivas e\n",
        "suas informações.\n",
        "\n",
        "**Variáveis:**\n",
        "\n",
        "\n",
        "* show_id - id único do filme/série.\n",
        "* title - título do filme ou série\n",
        "* director - diretor do filme ou série\n",
        "* cast - elenco do filme ou série\n",
        "* country - país do filme ou série\n",
        "* date_added - data que foi adicionado no Netflix\n",
        "* reading score - ano de lançamento original do filme\n",
        "* rating - classificação da televisão\n",
        "* duration - duração total do filme ou série.\n",
        "* listed_in - categoria ou gênero do filme ou série.\n",
        "* description -descrição do filme ou série.\n",
        "* type - tipo de filme ou série\n",
        "* Obs: Os dados são arquivos em .csv."
      ],
      "metadata": {
        "id": "qxLeXbM7DuB-"
      }
    },
    {
      "cell_type": "markdown",
      "source": [
        "## Etapa 1: Extração dos dados"
      ],
      "metadata": {
        "id": "FKbEsLmcBsnv"
      }
    },
    {
      "cell_type": "code",
      "execution_count": 2,
      "metadata": {
        "id": "KBikQQSm-i0V",
        "outputId": "64101b2b-bd9b-42c9-f320-8e3e863b7d1d",
        "colab": {
          "base_uri": "https://localhost:8080/",
          "height": 397
        }
      },
      "outputs": [
        {
          "output_type": "execute_result",
          "data": {
            "text/plain": [
              "    show_id                                title                    director  \\\n",
              "0  81193313                            Chocolate                         NaN   \n",
              "1  81197050  Guatemala: Heart of the Mayan World  Luis Ara, Ignacio Jaunsolo   \n",
              "2  81213894                      The Zoya Factor             Abhishek Sharma   \n",
              "3  81082007                            Atlantics                   Mati Diop   \n",
              "4  80213643                      Chip and Potato                         NaN   \n",
              "\n",
              "                                                cast  \\\n",
              "0  Ha Ji-won, Yoon Kye-sang, Jang Seung-jo, Kang ...   \n",
              "1                                  Christian Morales   \n",
              "2  Sonam Kapoor, Dulquer Salmaan, Sanjay Kapoor, ...   \n",
              "3  Mama Sane, Amadou Mbow, Ibrahima Traore, Nicol...   \n",
              "4  Abigail Oliver, Andrea Libman, Briana Buckmast...   \n",
              "\n",
              "                    country         date_added  release_year rating  \\\n",
              "0               South Korea  November 30, 2019          2019  TV-14   \n",
              "1                       NaN  November 30, 2019          2019   TV-G   \n",
              "2                     India  November 30, 2019          2019  TV-14   \n",
              "3  France, Senegal, Belgium  November 29, 2019          2019  TV-14   \n",
              "4    Canada, United Kingdom                NaN          2019   TV-Y   \n",
              "\n",
              "    duration                                          listed_in  \\\n",
              "0   1 Season  International TV Shows, Korean TV Shows, Roman...   \n",
              "1     67 min                Documentaries, International Movies   \n",
              "2    135 min             Comedies, Dramas, International Movies   \n",
              "3    106 min   Dramas, Independent Movies, International Movies   \n",
              "4  2 Seasons                                           Kids' TV   \n",
              "\n",
              "                                         description     type  \n",
              "0  Brought together by meaningful meals in the pa...  TV Show  \n",
              "1  From Sierra de las Minas to Esquipulas, explor...    Movie  \n",
              "2  A goofy copywriter unwittingly convinces the I...    Movie  \n",
              "3  Arranged to marry a rich man, young Ada is cru...    Movie  \n",
              "4  Lovable pug Chip starts kindergarten, makes ne...  TV Show  "
            ],
            "text/html": [
              "\n",
              "  <div id=\"df-4e3b4174-9452-46f6-a71e-7c9a1c105ba5\" class=\"colab-df-container\">\n",
              "    <div>\n",
              "<style scoped>\n",
              "    .dataframe tbody tr th:only-of-type {\n",
              "        vertical-align: middle;\n",
              "    }\n",
              "\n",
              "    .dataframe tbody tr th {\n",
              "        vertical-align: top;\n",
              "    }\n",
              "\n",
              "    .dataframe thead th {\n",
              "        text-align: right;\n",
              "    }\n",
              "</style>\n",
              "<table border=\"1\" class=\"dataframe\">\n",
              "  <thead>\n",
              "    <tr style=\"text-align: right;\">\n",
              "      <th></th>\n",
              "      <th>show_id</th>\n",
              "      <th>title</th>\n",
              "      <th>director</th>\n",
              "      <th>cast</th>\n",
              "      <th>country</th>\n",
              "      <th>date_added</th>\n",
              "      <th>release_year</th>\n",
              "      <th>rating</th>\n",
              "      <th>duration</th>\n",
              "      <th>listed_in</th>\n",
              "      <th>description</th>\n",
              "      <th>type</th>\n",
              "    </tr>\n",
              "  </thead>\n",
              "  <tbody>\n",
              "    <tr>\n",
              "      <th>0</th>\n",
              "      <td>81193313</td>\n",
              "      <td>Chocolate</td>\n",
              "      <td>NaN</td>\n",
              "      <td>Ha Ji-won, Yoon Kye-sang, Jang Seung-jo, Kang ...</td>\n",
              "      <td>South Korea</td>\n",
              "      <td>November 30, 2019</td>\n",
              "      <td>2019</td>\n",
              "      <td>TV-14</td>\n",
              "      <td>1 Season</td>\n",
              "      <td>International TV Shows, Korean TV Shows, Roman...</td>\n",
              "      <td>Brought together by meaningful meals in the pa...</td>\n",
              "      <td>TV Show</td>\n",
              "    </tr>\n",
              "    <tr>\n",
              "      <th>1</th>\n",
              "      <td>81197050</td>\n",
              "      <td>Guatemala: Heart of the Mayan World</td>\n",
              "      <td>Luis Ara, Ignacio Jaunsolo</td>\n",
              "      <td>Christian Morales</td>\n",
              "      <td>NaN</td>\n",
              "      <td>November 30, 2019</td>\n",
              "      <td>2019</td>\n",
              "      <td>TV-G</td>\n",
              "      <td>67 min</td>\n",
              "      <td>Documentaries, International Movies</td>\n",
              "      <td>From Sierra de las Minas to Esquipulas, explor...</td>\n",
              "      <td>Movie</td>\n",
              "    </tr>\n",
              "    <tr>\n",
              "      <th>2</th>\n",
              "      <td>81213894</td>\n",
              "      <td>The Zoya Factor</td>\n",
              "      <td>Abhishek Sharma</td>\n",
              "      <td>Sonam Kapoor, Dulquer Salmaan, Sanjay Kapoor, ...</td>\n",
              "      <td>India</td>\n",
              "      <td>November 30, 2019</td>\n",
              "      <td>2019</td>\n",
              "      <td>TV-14</td>\n",
              "      <td>135 min</td>\n",
              "      <td>Comedies, Dramas, International Movies</td>\n",
              "      <td>A goofy copywriter unwittingly convinces the I...</td>\n",
              "      <td>Movie</td>\n",
              "    </tr>\n",
              "    <tr>\n",
              "      <th>3</th>\n",
              "      <td>81082007</td>\n",
              "      <td>Atlantics</td>\n",
              "      <td>Mati Diop</td>\n",
              "      <td>Mama Sane, Amadou Mbow, Ibrahima Traore, Nicol...</td>\n",
              "      <td>France, Senegal, Belgium</td>\n",
              "      <td>November 29, 2019</td>\n",
              "      <td>2019</td>\n",
              "      <td>TV-14</td>\n",
              "      <td>106 min</td>\n",
              "      <td>Dramas, Independent Movies, International Movies</td>\n",
              "      <td>Arranged to marry a rich man, young Ada is cru...</td>\n",
              "      <td>Movie</td>\n",
              "    </tr>\n",
              "    <tr>\n",
              "      <th>4</th>\n",
              "      <td>80213643</td>\n",
              "      <td>Chip and Potato</td>\n",
              "      <td>NaN</td>\n",
              "      <td>Abigail Oliver, Andrea Libman, Briana Buckmast...</td>\n",
              "      <td>Canada, United Kingdom</td>\n",
              "      <td>NaN</td>\n",
              "      <td>2019</td>\n",
              "      <td>TV-Y</td>\n",
              "      <td>2 Seasons</td>\n",
              "      <td>Kids' TV</td>\n",
              "      <td>Lovable pug Chip starts kindergarten, makes ne...</td>\n",
              "      <td>TV Show</td>\n",
              "    </tr>\n",
              "  </tbody>\n",
              "</table>\n",
              "</div>\n",
              "    <div class=\"colab-df-buttons\">\n",
              "\n",
              "  <div class=\"colab-df-container\">\n",
              "    <button class=\"colab-df-convert\" onclick=\"convertToInteractive('df-4e3b4174-9452-46f6-a71e-7c9a1c105ba5')\"\n",
              "            title=\"Convert this dataframe to an interactive table.\"\n",
              "            style=\"display:none;\">\n",
              "\n",
              "  <svg xmlns=\"http://www.w3.org/2000/svg\" height=\"24px\" viewBox=\"0 -960 960 960\">\n",
              "    <path d=\"M120-120v-720h720v720H120Zm60-500h600v-160H180v160Zm220 220h160v-160H400v160Zm0 220h160v-160H400v160ZM180-400h160v-160H180v160Zm440 0h160v-160H620v160ZM180-180h160v-160H180v160Zm440 0h160v-160H620v160Z\"/>\n",
              "  </svg>\n",
              "    </button>\n",
              "\n",
              "  <style>\n",
              "    .colab-df-container {\n",
              "      display:flex;\n",
              "      gap: 12px;\n",
              "    }\n",
              "\n",
              "    .colab-df-convert {\n",
              "      background-color: #E8F0FE;\n",
              "      border: none;\n",
              "      border-radius: 50%;\n",
              "      cursor: pointer;\n",
              "      display: none;\n",
              "      fill: #1967D2;\n",
              "      height: 32px;\n",
              "      padding: 0 0 0 0;\n",
              "      width: 32px;\n",
              "    }\n",
              "\n",
              "    .colab-df-convert:hover {\n",
              "      background-color: #E2EBFA;\n",
              "      box-shadow: 0px 1px 2px rgba(60, 64, 67, 0.3), 0px 1px 3px 1px rgba(60, 64, 67, 0.15);\n",
              "      fill: #174EA6;\n",
              "    }\n",
              "\n",
              "    .colab-df-buttons div {\n",
              "      margin-bottom: 4px;\n",
              "    }\n",
              "\n",
              "    [theme=dark] .colab-df-convert {\n",
              "      background-color: #3B4455;\n",
              "      fill: #D2E3FC;\n",
              "    }\n",
              "\n",
              "    [theme=dark] .colab-df-convert:hover {\n",
              "      background-color: #434B5C;\n",
              "      box-shadow: 0px 1px 3px 1px rgba(0, 0, 0, 0.15);\n",
              "      filter: drop-shadow(0px 1px 2px rgba(0, 0, 0, 0.3));\n",
              "      fill: #FFFFFF;\n",
              "    }\n",
              "  </style>\n",
              "\n",
              "    <script>\n",
              "      const buttonEl =\n",
              "        document.querySelector('#df-4e3b4174-9452-46f6-a71e-7c9a1c105ba5 button.colab-df-convert');\n",
              "      buttonEl.style.display =\n",
              "        google.colab.kernel.accessAllowed ? 'block' : 'none';\n",
              "\n",
              "      async function convertToInteractive(key) {\n",
              "        const element = document.querySelector('#df-4e3b4174-9452-46f6-a71e-7c9a1c105ba5');\n",
              "        const dataTable =\n",
              "          await google.colab.kernel.invokeFunction('convertToInteractive',\n",
              "                                                    [key], {});\n",
              "        if (!dataTable) return;\n",
              "\n",
              "        const docLinkHtml = 'Like what you see? Visit the ' +\n",
              "          '<a target=\"_blank\" href=https://colab.research.google.com/notebooks/data_table.ipynb>data table notebook</a>'\n",
              "          + ' to learn more about interactive tables.';\n",
              "        element.innerHTML = '';\n",
              "        dataTable['output_type'] = 'display_data';\n",
              "        await google.colab.output.renderOutput(dataTable, element);\n",
              "        const docLink = document.createElement('div');\n",
              "        docLink.innerHTML = docLinkHtml;\n",
              "        element.appendChild(docLink);\n",
              "      }\n",
              "    </script>\n",
              "  </div>\n",
              "\n",
              "\n",
              "<div id=\"df-7af4bee6-756e-489c-a468-5f2f0a1c2202\">\n",
              "  <button class=\"colab-df-quickchart\" onclick=\"quickchart('df-7af4bee6-756e-489c-a468-5f2f0a1c2202')\"\n",
              "            title=\"Suggest charts\"\n",
              "            style=\"display:none;\">\n",
              "\n",
              "<svg xmlns=\"http://www.w3.org/2000/svg\" height=\"24px\"viewBox=\"0 0 24 24\"\n",
              "     width=\"24px\">\n",
              "    <g>\n",
              "        <path d=\"M19 3H5c-1.1 0-2 .9-2 2v14c0 1.1.9 2 2 2h14c1.1 0 2-.9 2-2V5c0-1.1-.9-2-2-2zM9 17H7v-7h2v7zm4 0h-2V7h2v10zm4 0h-2v-4h2v4z\"/>\n",
              "    </g>\n",
              "</svg>\n",
              "  </button>\n",
              "\n",
              "<style>\n",
              "  .colab-df-quickchart {\n",
              "      --bg-color: #E8F0FE;\n",
              "      --fill-color: #1967D2;\n",
              "      --hover-bg-color: #E2EBFA;\n",
              "      --hover-fill-color: #174EA6;\n",
              "      --disabled-fill-color: #AAA;\n",
              "      --disabled-bg-color: #DDD;\n",
              "  }\n",
              "\n",
              "  [theme=dark] .colab-df-quickchart {\n",
              "      --bg-color: #3B4455;\n",
              "      --fill-color: #D2E3FC;\n",
              "      --hover-bg-color: #434B5C;\n",
              "      --hover-fill-color: #FFFFFF;\n",
              "      --disabled-bg-color: #3B4455;\n",
              "      --disabled-fill-color: #666;\n",
              "  }\n",
              "\n",
              "  .colab-df-quickchart {\n",
              "    background-color: var(--bg-color);\n",
              "    border: none;\n",
              "    border-radius: 50%;\n",
              "    cursor: pointer;\n",
              "    display: none;\n",
              "    fill: var(--fill-color);\n",
              "    height: 32px;\n",
              "    padding: 0;\n",
              "    width: 32px;\n",
              "  }\n",
              "\n",
              "  .colab-df-quickchart:hover {\n",
              "    background-color: var(--hover-bg-color);\n",
              "    box-shadow: 0 1px 2px rgba(60, 64, 67, 0.3), 0 1px 3px 1px rgba(60, 64, 67, 0.15);\n",
              "    fill: var(--button-hover-fill-color);\n",
              "  }\n",
              "\n",
              "  .colab-df-quickchart-complete:disabled,\n",
              "  .colab-df-quickchart-complete:disabled:hover {\n",
              "    background-color: var(--disabled-bg-color);\n",
              "    fill: var(--disabled-fill-color);\n",
              "    box-shadow: none;\n",
              "  }\n",
              "\n",
              "  .colab-df-spinner {\n",
              "    border: 2px solid var(--fill-color);\n",
              "    border-color: transparent;\n",
              "    border-bottom-color: var(--fill-color);\n",
              "    animation:\n",
              "      spin 1s steps(1) infinite;\n",
              "  }\n",
              "\n",
              "  @keyframes spin {\n",
              "    0% {\n",
              "      border-color: transparent;\n",
              "      border-bottom-color: var(--fill-color);\n",
              "      border-left-color: var(--fill-color);\n",
              "    }\n",
              "    20% {\n",
              "      border-color: transparent;\n",
              "      border-left-color: var(--fill-color);\n",
              "      border-top-color: var(--fill-color);\n",
              "    }\n",
              "    30% {\n",
              "      border-color: transparent;\n",
              "      border-left-color: var(--fill-color);\n",
              "      border-top-color: var(--fill-color);\n",
              "      border-right-color: var(--fill-color);\n",
              "    }\n",
              "    40% {\n",
              "      border-color: transparent;\n",
              "      border-right-color: var(--fill-color);\n",
              "      border-top-color: var(--fill-color);\n",
              "    }\n",
              "    60% {\n",
              "      border-color: transparent;\n",
              "      border-right-color: var(--fill-color);\n",
              "    }\n",
              "    80% {\n",
              "      border-color: transparent;\n",
              "      border-right-color: var(--fill-color);\n",
              "      border-bottom-color: var(--fill-color);\n",
              "    }\n",
              "    90% {\n",
              "      border-color: transparent;\n",
              "      border-bottom-color: var(--fill-color);\n",
              "    }\n",
              "  }\n",
              "</style>\n",
              "\n",
              "  <script>\n",
              "    async function quickchart(key) {\n",
              "      const quickchartButtonEl =\n",
              "        document.querySelector('#' + key + ' button');\n",
              "      quickchartButtonEl.disabled = true;  // To prevent multiple clicks.\n",
              "      quickchartButtonEl.classList.add('colab-df-spinner');\n",
              "      try {\n",
              "        const charts = await google.colab.kernel.invokeFunction(\n",
              "            'suggestCharts', [key], {});\n",
              "      } catch (error) {\n",
              "        console.error('Error during call to suggestCharts:', error);\n",
              "      }\n",
              "      quickchartButtonEl.classList.remove('colab-df-spinner');\n",
              "      quickchartButtonEl.classList.add('colab-df-quickchart-complete');\n",
              "    }\n",
              "    (() => {\n",
              "      let quickchartButtonEl =\n",
              "        document.querySelector('#df-7af4bee6-756e-489c-a468-5f2f0a1c2202 button');\n",
              "      quickchartButtonEl.style.display =\n",
              "        google.colab.kernel.accessAllowed ? 'block' : 'none';\n",
              "    })();\n",
              "  </script>\n",
              "</div>\n",
              "\n",
              "    </div>\n",
              "  </div>\n"
            ],
            "application/vnd.google.colaboratory.intrinsic+json": {
              "type": "dataframe",
              "variable_name": "df",
              "summary": "{\n  \"name\": \"df\",\n  \"rows\": 5837,\n  \"fields\": [\n    {\n      \"column\": \"show_id\",\n      \"properties\": {\n        \"dtype\": \"number\",\n        \"std\": 9479777,\n        \"min\": 269880,\n        \"max\": 81227195,\n        \"num_unique_values\": 5837,\n        \"samples\": [\n          80134330,\n          80045925,\n          70262831\n        ],\n        \"semantic_type\": \"\",\n        \"description\": \"\"\n      }\n    },\n    {\n      \"column\": \"title\",\n      \"properties\": {\n        \"dtype\": \"string\",\n        \"num_unique_values\": 5780,\n        \"samples\": [\n          \"Di Renjie zhi Sidatianwang\",\n          \"Us and Them\",\n          \"A Grand Night In: The Story of Aardman\"\n        ],\n        \"semantic_type\": \"\",\n        \"description\": \"\"\n      }\n    },\n    {\n      \"column\": \"director\",\n      \"properties\": {\n        \"dtype\": \"string\",\n        \"num_unique_values\": 3108,\n        \"samples\": [\n          \"Michael Anderson\",\n          \"Kunle Afolayan\",\n          \"Maris Curran\"\n        ],\n        \"semantic_type\": \"\",\n        \"description\": \"\"\n      }\n    },\n    {\n      \"column\": \"cast\",\n      \"properties\": {\n        \"dtype\": \"string\",\n        \"num_unique_values\": 5087,\n        \"samples\": [\n          \"Matthew Gray Gubler, AnnaLynne McCord, Alisha Boe, Sheila Vand, Sam Eidson, James Moses Black, Ajay Mehta, Michael Beasley, David Maldonado, Hallie Grace Bradley, Peter Jaymes Jr., Eric Podnar, Lucy Faust\",\n          \"Kiefer Sutherland, Natascha McElhone, Maggie Q, Kal Penn, Adan Canto, Italia Ricci, LaMonica Garrett, Tanner Buchanan, Ben Lawson, Paulo Costanzo, Zoe McLellan\",\n          \"Robin Williams, Shelley Duvall, Ray Walston, Paul Dooley, Paul L. Smith, Richard Libertini, Donald Moffat, Macintyre Dixon, Roberta Maxwell, Donovan Scott\"\n        ],\n        \"semantic_type\": \"\",\n        \"description\": \"\"\n      }\n    },\n    {\n      \"column\": \"country\",\n      \"properties\": {\n        \"dtype\": \"category\",\n        \"num_unique_values\": 527,\n        \"samples\": [\n          \"United States, Canada, Ireland\",\n          \"Australia, India\",\n          \"South Africa\"\n        ],\n        \"semantic_type\": \"\",\n        \"description\": \"\"\n      }\n    },\n    {\n      \"column\": \"date_added\",\n      \"properties\": {\n        \"dtype\": \"object\",\n        \"num_unique_values\": 1092,\n        \"samples\": [\n          \"May 22, 2018\",\n          \"June 21, 2019\",\n          \"August 22, 2019\"\n        ],\n        \"semantic_type\": \"\",\n        \"description\": \"\"\n      }\n    },\n    {\n      \"column\": \"release_year\",\n      \"properties\": {\n        \"dtype\": \"number\",\n        \"std\": 8,\n        \"min\": 1925,\n        \"max\": 2020,\n        \"num_unique_values\": 71,\n        \"samples\": [\n          2011,\n          2019,\n          1984\n        ],\n        \"semantic_type\": \"\",\n        \"description\": \"\"\n      }\n    },\n    {\n      \"column\": \"rating\",\n      \"properties\": {\n        \"dtype\": \"category\",\n        \"num_unique_values\": 14,\n        \"samples\": [\n          \"PG-13\",\n          \"NR\",\n          \"TV-14\"\n        ],\n        \"semantic_type\": \"\",\n        \"description\": \"\"\n      }\n    },\n    {\n      \"column\": \"duration\",\n      \"properties\": {\n        \"dtype\": \"category\",\n        \"num_unique_values\": 194,\n        \"samples\": [\n          \"15 min\",\n          \"209 min\",\n          \"51 min\"\n        ],\n        \"semantic_type\": \"\",\n        \"description\": \"\"\n      }\n    },\n    {\n      \"column\": \"listed_in\",\n      \"properties\": {\n        \"dtype\": \"category\",\n        \"num_unique_values\": 449,\n        \"samples\": [\n          \"Children & Family Movies, Comedies, Faith & Spirituality\",\n          \"Comedies, Dramas, Music & Musicals\",\n          \"Classic Movies, Dramas, International Movies\"\n        ],\n        \"semantic_type\": \"\",\n        \"description\": \"\"\n      }\n    },\n    {\n      \"column\": \"description\",\n      \"properties\": {\n        \"dtype\": \"string\",\n        \"num_unique_values\": 5829,\n        \"samples\": [\n          \"Danish teen Emma moves to Paris hoping to become a top model, but her dreams soon unravel when her affair with photographer Shane turns obsessive.\",\n          \"This documentary chronicles the philosophy and life's work of archivist P.K. Nair, who made a mission of preserving Indian cinema\\u2019s rich history.\",\n          \"After the world learns the truth about her failing marriage, a successful self-help author tries to salvage her career and find her way as a divorc\\u00e9e.\"\n        ],\n        \"semantic_type\": \"\",\n        \"description\": \"\"\n      }\n    },\n    {\n      \"column\": \"type\",\n      \"properties\": {\n        \"dtype\": \"category\",\n        \"num_unique_values\": 2,\n        \"samples\": [\n          \"Movie\",\n          \"TV Show\"\n        ],\n        \"semantic_type\": \"\",\n        \"description\": \"\"\n      }\n    }\n  ]\n}"
            }
          },
          "metadata": {},
          "execution_count": 2
        }
      ],
      "source": [
        "# Código da etapa 1:\n",
        "import pandas as pd\n",
        "\n",
        "url = 'https://raw.githubusercontent.com/devLarissaRodrigues/WoMakersCode-DataAnalytics-DesafiosEmSquad/main/Desafio2/Dataset/netflix_titles_nov_2019.csv'\n",
        "\n",
        "df = pd.read_csv(url)\n",
        "\n",
        "df.head()"
      ]
    },
    {
      "cell_type": "markdown",
      "source": [
        "## Etapa 2: Exploração inicial\n",
        "\n",
        "*   Quantas linhas e colunas tem o dataset?  \n",
        "*   Quais são os tipos das variáveis e se há valores ausentes?\n"
      ],
      "metadata": {
        "id": "LqE0KfkgBgne"
      }
    },
    {
      "cell_type": "code",
      "source": [
        "# Código da etapa 2:\n",
        "\n",
        "#Quantas linhas e colunas tem o dataset?\n",
        "\n",
        "# Exibe o número de linhas e colunas.\n",
        "print(f\"Número de linhas: {df.shape[0]}\")\n",
        "print(f\"Número de Colunas: {df.shape[1]}\")\n"
      ],
      "metadata": {
        "id": "12QU8eI4C0ok",
        "colab": {
          "base_uri": "https://localhost:8080/"
        },
        "outputId": "75d4762f-b34b-4b38-a9aa-a4f4f808f28d"
      },
      "execution_count": 3,
      "outputs": [
        {
          "output_type": "stream",
          "name": "stdout",
          "text": [
            "Número de linhas: 5837\n",
            "Número de Colunas: 12\n"
          ]
        }
      ]
    },
    {
      "cell_type": "code",
      "source": [
        "#Quais são os tipos das variáveis e se há valores ausentes?\n",
        "\n",
        "# Exibir tipos de dados de cada coluna\n",
        "print(df.dtypes)\n",
        "\n",
        "# Verifique se há valores ausentes\n",
        "print(df.isnull().sum())"
      ],
      "metadata": {
        "colab": {
          "base_uri": "https://localhost:8080/"
        },
        "id": "AqGA84Fon6_V",
        "outputId": "0823702d-81fc-4644-f364-2f4527c639b2"
      },
      "execution_count": 4,
      "outputs": [
        {
          "output_type": "stream",
          "name": "stdout",
          "text": [
            "show_id          int64\n",
            "title           object\n",
            "director        object\n",
            "cast            object\n",
            "country         object\n",
            "date_added      object\n",
            "release_year     int64\n",
            "rating          object\n",
            "duration        object\n",
            "listed_in       object\n",
            "description     object\n",
            "type            object\n",
            "dtype: object\n",
            "show_id            0\n",
            "title              0\n",
            "director        1901\n",
            "cast             556\n",
            "country          427\n",
            "date_added       642\n",
            "release_year       0\n",
            "rating            10\n",
            "duration           0\n",
            "listed_in          0\n",
            "description        0\n",
            "type               0\n",
            "dtype: int64\n"
          ]
        }
      ]
    },
    {
      "cell_type": "markdown",
      "source": [
        "## Etapa 3: Análises de frequência\n",
        "\n",
        "\n",
        "*   Qual a proporção de filmes vs. séries no catálogo?\n",
        "*   Qual o gênero mais frequente?\n",
        "\n"
      ],
      "metadata": {
        "id": "6YLey32NB73r"
      }
    },
    {
      "cell_type": "code",
      "source": [
        "# Código da etapa 3:\n",
        "proporcao_tipo = df[\"type\"].value_counts(normalize=True) * 100\n",
        "print(\"\\nProporção de Filmes vs. Séries:\\n\", proporcao_tipo)\n",
        "\n",
        "genero_mais_frequente = df[\"listed_in\"].value_counts().idxmax()\n",
        "print(\"\\nGênero mais frequente:\", genero_mais_frequente)\n",
        "\n"
      ],
      "metadata": {
        "id": "uB-rCAsiC6k1",
        "colab": {
          "base_uri": "https://localhost:8080/"
        },
        "outputId": "85e3c59d-a942-450a-a429-419de88ad2a7"
      },
      "execution_count": 5,
      "outputs": [
        {
          "output_type": "stream",
          "name": "stdout",
          "text": [
            "\n",
            "Proporção de Filmes vs. Séries:\n",
            " type\n",
            "Movie      67.483296\n",
            "TV Show    32.516704\n",
            "Name: proportion, dtype: float64\n",
            "\n",
            "Gênero mais frequente: Documentaries\n"
          ]
        }
      ]
    },
    {
      "cell_type": "markdown",
      "source": [
        "## Etapa 4: Análises estatísticas\n",
        "\n",
        "*   Qual a média, mediana e moda do tempo de duração dos filmes?\n",
        "*   Qual o filme mais curto e mais longo?\n"
      ],
      "metadata": {
        "id": "ojgzhZ5vCPsF"
      }
    },
    {
      "cell_type": "code",
      "source": [
        "# Código da etapa 4:"
      ],
      "metadata": {
        "id": "4tVP79LaC8G8"
      },
      "execution_count": 6,
      "outputs": []
    },
    {
      "cell_type": "markdown",
      "source": [
        "## Etapa 5: Visualização de dados\n",
        "\n",
        "*   Criar um gráfico de barras para mostrar a quantidade de títulos por gênero.\n",
        "*   Criar um histograma para analisar a distribuição da duração dos filmes.\n"
      ],
      "metadata": {
        "id": "IZOyd8JgCQQ8"
      }
    },
    {
      "cell_type": "code",
      "source": [
        "#gráfico de barras\n",
        "\n",
        "import matplotlib.pyplot as plt\n",
        "\n",
        "\n",
        "# separando as categorias por vírgula e contar a frequência de cada uma\n",
        "categorias = df['listed_in'].str.split(', ', expand=True).stack() # split- separa em colunas usando o delimitador \",\" stack - irá empilhar essas colunas verticalmente. Isso facilitará a contagem\n",
        "contagem_categorias = categorias.value_counts()\n",
        "\n",
        "# Converter a série de contagem em um DataFrame para facilitar a visualização\n",
        "df_contagem = contagem_categorias.reset_index()\n",
        "df_contagem.columns = ['Categoria', 'Quantidade']\n",
        "df_contagem = df_contagem.sort_values(by='Quantidade', ascending=True)\n",
        "\n",
        "# criando o gráfico de barras\n",
        "plt.figure(figsize=(8, 6))\n",
        "\n",
        "#  definindo características das barras\n",
        "bars = plt.barh(df_contagem['Categoria'], df_contagem['Quantidade'], color='skyblue')\n",
        "\n",
        "# adicionando rótulos nos eixos e título\n",
        "plt.xlabel(\"Quantidade de Títulos\", fontsize=9)\n",
        "plt.ylabel(\"Categoria\", fontsize=9)\n",
        "plt.title(\"Quantidade de Títulos por Categoria\", fontsize=9)\n",
        "plt.yticks(fontsize=6)\n",
        "\n",
        "# adicionando os valores nas barras\n",
        "for bar in bars:\n",
        "    xval = bar.get_width()\n",
        "    plt.text(xval + 0.5, bar.get_y() + bar.get_height()/2, round(xval, 1), ha='left', va='center', fontsize=6)\n",
        "\n",
        "# Ajusta o layout para evitar que rótulos sejam cortados\n",
        "plt.tight_layout()\n",
        "\n",
        "# Exibir gráfico\n",
        "plt.show()"
      ],
      "metadata": {
        "id": "RHnYsoy_DUJ5",
        "outputId": "542664e5-d944-4b43-d93b-15fc2ee59b49",
        "colab": {
          "base_uri": "https://localhost:8080/",
          "height": 607
        }
      },
      "execution_count": 31,
      "outputs": [
        {
          "output_type": "display_data",
          "data": {
            "text/plain": [
              "<Figure size 800x600 with 1 Axes>"
            ],
            "image/png": "[encoded data removed]"
          },
          "metadata": {}
        }
      ]
    },
    {
      "cell_type": "markdown",
      "source": [
        "## Etapa 6: Atividade extra\n",
        "\n",
        "*   Quais são os 5 países que possuem mais produções no catálogo?\n"
      ],
      "metadata": {
        "id": "QFZiO_6VCQeU"
      }
    },
    {
      "cell_type": "code",
      "source": [
        "# Substituir valores nulos por 'Desconhecido' para evitar erros\n",
        "df['country'] = df['country'].fillna('Desconhecido')\n",
        "\n",
        "# Contar a frequência de produções por país\n",
        "top_paises = df['country'].value_counts().head(5)\n",
        "\n",
        "# Exibir o resultado\n",
        "print(top_paises)"
      ],
      "metadata": {
        "id": "5hoWBv9wDnC0",
        "colab": {
          "base_uri": "https://localhost:8080/"
        },
        "outputId": "58674940-162f-4a88-c480-b4e0cc4b9738"
      },
      "execution_count": null,
      "outputs": [
        {
          "output_type": "stream",
          "name": "stdout",
          "text": [
            "country\n",
            "United States     1907\n",
            "India              697\n",
            "Desconhecido       427\n",
            "United Kingdom     336\n",
            "Japan              168\n",
            "Name: count, dtype: int64\n"
          ]
        }
      ]
    }
  ]
}