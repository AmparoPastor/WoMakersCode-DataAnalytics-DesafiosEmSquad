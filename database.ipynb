{
  "nbformat": 4,
  "nbformat_minor": 0,
  "metadata": {
    "colab": {
      "provenance": [],
<<<<<<< HEAD
      "authorship_tag": "ABX9TyPHiMTB4HSFaj6CFrsI0XtP",
=======
>>>>>>> 8588d6c7d8ea7089c2890218bcf19c63d458ab6f
      "include_colab_link": true
    },
    "kernelspec": {
      "name": "python3",
      "display_name": "Python 3"
    },
    "language_info": {
      "name": "python"
    }
  },
  "cells": [
    {
      "cell_type": "markdown",
      "metadata": {
        "id": "view-in-github",
        "colab_type": "text"
      },
      "source": [
<<<<<<< HEAD
        "<a href=\"https://colab.research.google.com/github/devLarissaRodrigues/WoMakersCode-DataAnalytics-Desafio1/blob/main/database-etapa1.ipynb\" target=\"_parent\"><img src=\"https://colab.research.google.com/assets/colab-badge.svg\" alt=\"Open In Colab\"/></a>"
      ]
    },
    {
      "cell_type": "code",
      "execution_count": null,
      "metadata": {
        "colab": {
          "base_uri": "https://localhost:8080/",
          "height": 424
        },
        "id": "-K8_1_LyLi-_",
        "outputId": "3c20dbd3-b933-463e-97bc-89e1db1aa3f6"
      },
=======
        "<a href=\"https://colab.research.google.com/github/devLarissaRodrigues/WoMakersCode-DataAnalytics-Desafio1/blob/Etapa2/database.ipynb\" target=\"_parent\"><img src=\"https://colab.research.google.com/assets/colab-badge.svg\" alt=\"Open In Colab\"/></a>"
      ]
    },
    {
      "cell_type": "markdown",
      "source": [
        "Etapa 1 - Incerindo o arquivo contendo os dados provenientes na pasta WoMakersCode no google drive."
      ],
      "metadata": {
        "id": "o-Lb1XzWFQaH"
      }
    },
    {
      "cell_type": "markdown",
      "source": [
        "Passo 1: Extração (Extract)"
      ],
      "metadata": {
        "id": "2qJDEzMKXjy1"
      }
    },
    {
      "cell_type": "code",
      "source": [
        "import pandas as pd\n",
        "\n",
        "file_id = \"1ylUuhGk_qh_FivQ-pHI7KFY9-r1H7pH1\"\n",
        "url = f\"https://drive.google.com/uc?id={file_id}\"\n",
        "\n",
        "df = pd.read_csv(url)\n",
        "df.head(10)  # Exibe as primeiras linhas"
      ],
      "metadata": {
        "id": "0KP4Zm3HG0gF",
        "outputId": "6aac86f4-b189-4423-db97-43174e3ee539",
        "colab": {
          "base_uri": "https://localhost:8080/",
          "height": 362
        }
      },
      "execution_count": 38,
>>>>>>> 8588d6c7d8ea7089c2890218bcf19c63d458ab6f
      "outputs": [
        {
          "output_type": "execute_result",
          "data": {
            "text/plain": [
<<<<<<< HEAD
              "     PassengerId  Survived  Pclass  \\\n",
              "0              1         0       3   \n",
              "1              2         1       1   \n",
              "2              3         1       3   \n",
              "3              4         1       1   \n",
              "4              5         0       3   \n",
              "..           ...       ...     ...   \n",
              "886          887         0       2   \n",
              "887          888         1       1   \n",
              "888          889         0       3   \n",
              "889          890         1       1   \n",
              "890          891         0       3   \n",
              "\n",
              "                                                  Name     Sex   Age  SibSp  \\\n",
              "0                              Braund, Mr. Owen Harris    male  22.0      1   \n",
              "1    Cumings, Mrs. John Bradley (Florence Briggs Th...  female  38.0      1   \n",
              "2                               Heikkinen, Miss. Laina  female  26.0      0   \n",
              "3         Futrelle, Mrs. Jacques Heath (Lily May Peel)  female  35.0      1   \n",
              "4                             Allen, Mr. William Henry    male  35.0      0   \n",
              "..                                                 ...     ...   ...    ...   \n",
              "886                              Montvila, Rev. Juozas    male  27.0      0   \n",
              "887                       Graham, Miss. Margaret Edith  female  19.0      0   \n",
              "888           Johnston, Miss. Catherine Helen \"Carrie\"  female   NaN      1   \n",
              "889                              Behr, Mr. Karl Howell    male  26.0      0   \n",
              "890                                Dooley, Mr. Patrick    male  32.0      0   \n",
              "\n",
              "     Parch            Ticket     Fare Cabin Embarked  \n",
              "0        0         A/5 21171   7.2500   NaN        S  \n",
              "1        0          PC 17599  71.2833   C85        C  \n",
              "2        0  STON/O2. 3101282   7.9250   NaN        S  \n",
              "3        0            113803  53.1000  C123        S  \n",
              "4        0            373450   8.0500   NaN        S  \n",
              "..     ...               ...      ...   ...      ...  \n",
              "886      0            211536  13.0000   NaN        S  \n",
              "887      0            112053  30.0000   B42        S  \n",
              "888      2        W./C. 6607  23.4500   NaN        S  \n",
              "889      0            111369  30.0000  C148        C  \n",
              "890      0            370376   7.7500   NaN        Q  \n",
              "\n",
              "[891 rows x 12 columns]"
            ],
            "text/html": [
              "\n",
              "  <div id=\"df-017a7b9e-f08f-4034-ae50-eb6b20e97c8b\" class=\"colab-df-container\">\n",
=======
              "   PassengerId  Survived  Pclass  \\\n",
              "0            1         0       3   \n",
              "1            2         1       1   \n",
              "2            3         1       3   \n",
              "3            4         1       1   \n",
              "4            5         0       3   \n",
              "5            6         0       3   \n",
              "6            7         0       1   \n",
              "7            8         0       3   \n",
              "8            9         1       3   \n",
              "9           10         1       2   \n",
              "\n",
              "                                                Name     Sex   Age  SibSp  \\\n",
              "0                            Braund, Mr. Owen Harris    male  22.0      1   \n",
              "1  Cumings, Mrs. John Bradley (Florence Briggs Th...  female  38.0      1   \n",
              "2                             Heikkinen, Miss. Laina  female  26.0      0   \n",
              "3       Futrelle, Mrs. Jacques Heath (Lily May Peel)  female  35.0      1   \n",
              "4                           Allen, Mr. William Henry    male  35.0      0   \n",
              "5                                   Moran, Mr. James    male   NaN      0   \n",
              "6                            McCarthy, Mr. Timothy J    male  54.0      0   \n",
              "7                     Palsson, Master. Gosta Leonard    male   2.0      3   \n",
              "8  Johnson, Mrs. Oscar W (Elisabeth Vilhelmina Berg)  female  27.0      0   \n",
              "9                Nasser, Mrs. Nicholas (Adele Achem)  female  14.0      1   \n",
              "\n",
              "   Parch            Ticket     Fare Cabin Embarked  \n",
              "0      0         A/5 21171   7.2500   NaN        S  \n",
              "1      0          PC 17599  71.2833   C85        C  \n",
              "2      0  STON/O2. 3101282   7.9250   NaN        S  \n",
              "3      0            113803  53.1000  C123        S  \n",
              "4      0            373450   8.0500   NaN        S  \n",
              "5      0            330877   8.4583   NaN        Q  \n",
              "6      0             17463  51.8625   E46        S  \n",
              "7      1            349909  21.0750   NaN        S  \n",
              "8      2            347742  11.1333   NaN        S  \n",
              "9      0            237736  30.0708   NaN        C  "
            ],
            "text/html": [
              "\n",
              "  <div id=\"df-868b3b90-9932-42a4-b38f-09c106dfd1ae\" class=\"colab-df-container\">\n",
>>>>>>> 8588d6c7d8ea7089c2890218bcf19c63d458ab6f
              "    <div>\n",
              "<style scoped>\n",
              "    .dataframe tbody tr th:only-of-type {\n",
              "        vertical-align: middle;\n",
              "    }\n",
              "\n",
              "    .dataframe tbody tr th {\n",
              "        vertical-align: top;\n",
              "    }\n",
              "\n",
              "    .dataframe thead th {\n",
              "        text-align: right;\n",
              "    }\n",
              "</style>\n",
              "<table border=\"1\" class=\"dataframe\">\n",
              "  <thead>\n",
              "    <tr style=\"text-align: right;\">\n",
              "      <th></th>\n",
              "      <th>PassengerId</th>\n",
              "      <th>Survived</th>\n",
              "      <th>Pclass</th>\n",
              "      <th>Name</th>\n",
              "      <th>Sex</th>\n",
              "      <th>Age</th>\n",
              "      <th>SibSp</th>\n",
              "      <th>Parch</th>\n",
              "      <th>Ticket</th>\n",
              "      <th>Fare</th>\n",
              "      <th>Cabin</th>\n",
              "      <th>Embarked</th>\n",
              "    </tr>\n",
              "  </thead>\n",
              "  <tbody>\n",
              "    <tr>\n",
              "      <th>0</th>\n",
              "      <td>1</td>\n",
              "      <td>0</td>\n",
              "      <td>3</td>\n",
              "      <td>Braund, Mr. Owen Harris</td>\n",
              "      <td>male</td>\n",
              "      <td>22.0</td>\n",
              "      <td>1</td>\n",
              "      <td>0</td>\n",
              "      <td>A/5 21171</td>\n",
              "      <td>7.2500</td>\n",
              "      <td>NaN</td>\n",
              "      <td>S</td>\n",
              "    </tr>\n",
              "    <tr>\n",
              "      <th>1</th>\n",
              "      <td>2</td>\n",
              "      <td>1</td>\n",
              "      <td>1</td>\n",
              "      <td>Cumings, Mrs. John Bradley (Florence Briggs Th...</td>\n",
              "      <td>female</td>\n",
              "      <td>38.0</td>\n",
              "      <td>1</td>\n",
              "      <td>0</td>\n",
              "      <td>PC 17599</td>\n",
              "      <td>71.2833</td>\n",
              "      <td>C85</td>\n",
              "      <td>C</td>\n",
              "    </tr>\n",
              "    <tr>\n",
              "      <th>2</th>\n",
              "      <td>3</td>\n",
              "      <td>1</td>\n",
              "      <td>3</td>\n",
              "      <td>Heikkinen, Miss. Laina</td>\n",
              "      <td>female</td>\n",
              "      <td>26.0</td>\n",
              "      <td>0</td>\n",
              "      <td>0</td>\n",
              "      <td>STON/O2. 3101282</td>\n",
              "      <td>7.9250</td>\n",
              "      <td>NaN</td>\n",
              "      <td>S</td>\n",
              "    </tr>\n",
              "    <tr>\n",
              "      <th>3</th>\n",
              "      <td>4</td>\n",
              "      <td>1</td>\n",
              "      <td>1</td>\n",
              "      <td>Futrelle, Mrs. Jacques Heath (Lily May Peel)</td>\n",
              "      <td>female</td>\n",
              "      <td>35.0</td>\n",
              "      <td>1</td>\n",
              "      <td>0</td>\n",
              "      <td>113803</td>\n",
              "      <td>53.1000</td>\n",
              "      <td>C123</td>\n",
              "      <td>S</td>\n",
              "    </tr>\n",
              "    <tr>\n",
              "      <th>4</th>\n",
              "      <td>5</td>\n",
              "      <td>0</td>\n",
              "      <td>3</td>\n",
              "      <td>Allen, Mr. William Henry</td>\n",
              "      <td>male</td>\n",
              "      <td>35.0</td>\n",
              "      <td>0</td>\n",
              "      <td>0</td>\n",
              "      <td>373450</td>\n",
              "      <td>8.0500</td>\n",
              "      <td>NaN</td>\n",
              "      <td>S</td>\n",
              "    </tr>\n",
              "    <tr>\n",
<<<<<<< HEAD
              "      <th>...</th>\n",
              "      <td>...</td>\n",
              "      <td>...</td>\n",
              "      <td>...</td>\n",
              "      <td>...</td>\n",
              "      <td>...</td>\n",
              "      <td>...</td>\n",
              "      <td>...</td>\n",
              "      <td>...</td>\n",
              "      <td>...</td>\n",
              "      <td>...</td>\n",
              "      <td>...</td>\n",
              "      <td>...</td>\n",
              "    </tr>\n",
              "    <tr>\n",
              "      <th>886</th>\n",
              "      <td>887</td>\n",
              "      <td>0</td>\n",
              "      <td>2</td>\n",
              "      <td>Montvila, Rev. Juozas</td>\n",
              "      <td>male</td>\n",
              "      <td>27.0</td>\n",
              "      <td>0</td>\n",
              "      <td>0</td>\n",
              "      <td>211536</td>\n",
              "      <td>13.0000</td>\n",
              "      <td>NaN</td>\n",
              "      <td>S</td>\n",
              "    </tr>\n",
              "    <tr>\n",
              "      <th>887</th>\n",
              "      <td>888</td>\n",
              "      <td>1</td>\n",
              "      <td>1</td>\n",
              "      <td>Graham, Miss. Margaret Edith</td>\n",
              "      <td>female</td>\n",
              "      <td>19.0</td>\n",
              "      <td>0</td>\n",
              "      <td>0</td>\n",
              "      <td>112053</td>\n",
              "      <td>30.0000</td>\n",
              "      <td>B42</td>\n",
              "      <td>S</td>\n",
              "    </tr>\n",
              "    <tr>\n",
              "      <th>888</th>\n",
              "      <td>889</td>\n",
              "      <td>0</td>\n",
              "      <td>3</td>\n",
              "      <td>Johnston, Miss. Catherine Helen \"Carrie\"</td>\n",
              "      <td>female</td>\n",
              "      <td>NaN</td>\n",
              "      <td>1</td>\n",
              "      <td>2</td>\n",
              "      <td>W./C. 6607</td>\n",
              "      <td>23.4500</td>\n",
              "      <td>NaN</td>\n",
              "      <td>S</td>\n",
              "    </tr>\n",
              "    <tr>\n",
              "      <th>889</th>\n",
              "      <td>890</td>\n",
              "      <td>1</td>\n",
              "      <td>1</td>\n",
              "      <td>Behr, Mr. Karl Howell</td>\n",
              "      <td>male</td>\n",
              "      <td>26.0</td>\n",
              "      <td>0</td>\n",
              "      <td>0</td>\n",
              "      <td>111369</td>\n",
              "      <td>30.0000</td>\n",
              "      <td>C148</td>\n",
              "      <td>C</td>\n",
              "    </tr>\n",
              "    <tr>\n",
              "      <th>890</th>\n",
              "      <td>891</td>\n",
              "      <td>0</td>\n",
              "      <td>3</td>\n",
              "      <td>Dooley, Mr. Patrick</td>\n",
              "      <td>male</td>\n",
              "      <td>32.0</td>\n",
              "      <td>0</td>\n",
              "      <td>0</td>\n",
              "      <td>370376</td>\n",
              "      <td>7.7500</td>\n",
              "      <td>NaN</td>\n",
              "      <td>Q</td>\n",
              "    </tr>\n",
              "  </tbody>\n",
              "</table>\n",
              "<p>891 rows × 12 columns</p>\n",
=======
              "      <th>5</th>\n",
              "      <td>6</td>\n",
              "      <td>0</td>\n",
              "      <td>3</td>\n",
              "      <td>Moran, Mr. James</td>\n",
              "      <td>male</td>\n",
              "      <td>NaN</td>\n",
              "      <td>0</td>\n",
              "      <td>0</td>\n",
              "      <td>330877</td>\n",
              "      <td>8.4583</td>\n",
              "      <td>NaN</td>\n",
              "      <td>Q</td>\n",
              "    </tr>\n",
              "    <tr>\n",
              "      <th>6</th>\n",
              "      <td>7</td>\n",
              "      <td>0</td>\n",
              "      <td>1</td>\n",
              "      <td>McCarthy, Mr. Timothy J</td>\n",
              "      <td>male</td>\n",
              "      <td>54.0</td>\n",
              "      <td>0</td>\n",
              "      <td>0</td>\n",
              "      <td>17463</td>\n",
              "      <td>51.8625</td>\n",
              "      <td>E46</td>\n",
              "      <td>S</td>\n",
              "    </tr>\n",
              "    <tr>\n",
              "      <th>7</th>\n",
              "      <td>8</td>\n",
              "      <td>0</td>\n",
              "      <td>3</td>\n",
              "      <td>Palsson, Master. Gosta Leonard</td>\n",
              "      <td>male</td>\n",
              "      <td>2.0</td>\n",
              "      <td>3</td>\n",
              "      <td>1</td>\n",
              "      <td>349909</td>\n",
              "      <td>21.0750</td>\n",
              "      <td>NaN</td>\n",
              "      <td>S</td>\n",
              "    </tr>\n",
              "    <tr>\n",
              "      <th>8</th>\n",
              "      <td>9</td>\n",
              "      <td>1</td>\n",
              "      <td>3</td>\n",
              "      <td>Johnson, Mrs. Oscar W (Elisabeth Vilhelmina Berg)</td>\n",
              "      <td>female</td>\n",
              "      <td>27.0</td>\n",
              "      <td>0</td>\n",
              "      <td>2</td>\n",
              "      <td>347742</td>\n",
              "      <td>11.1333</td>\n",
              "      <td>NaN</td>\n",
              "      <td>S</td>\n",
              "    </tr>\n",
              "    <tr>\n",
              "      <th>9</th>\n",
              "      <td>10</td>\n",
              "      <td>1</td>\n",
              "      <td>2</td>\n",
              "      <td>Nasser, Mrs. Nicholas (Adele Achem)</td>\n",
              "      <td>female</td>\n",
              "      <td>14.0</td>\n",
              "      <td>1</td>\n",
              "      <td>0</td>\n",
              "      <td>237736</td>\n",
              "      <td>30.0708</td>\n",
              "      <td>NaN</td>\n",
              "      <td>C</td>\n",
              "    </tr>\n",
              "  </tbody>\n",
              "</table>\n",
>>>>>>> 8588d6c7d8ea7089c2890218bcf19c63d458ab6f
              "</div>\n",
              "    <div class=\"colab-df-buttons\">\n",
              "\n",
              "  <div class=\"colab-df-container\">\n",
<<<<<<< HEAD
              "    <button class=\"colab-df-convert\" onclick=\"convertToInteractive('df-017a7b9e-f08f-4034-ae50-eb6b20e97c8b')\"\n",
=======
              "    <button class=\"colab-df-convert\" onclick=\"convertToInteractive('df-868b3b90-9932-42a4-b38f-09c106dfd1ae')\"\n",
>>>>>>> 8588d6c7d8ea7089c2890218bcf19c63d458ab6f
              "            title=\"Convert this dataframe to an interactive table.\"\n",
              "            style=\"display:none;\">\n",
              "\n",
              "  <svg xmlns=\"http://www.w3.org/2000/svg\" height=\"24px\" viewBox=\"0 -960 960 960\">\n",
              "    <path d=\"M120-120v-720h720v720H120Zm60-500h600v-160H180v160Zm220 220h160v-160H400v160Zm0 220h160v-160H400v160ZM180-400h160v-160H180v160Zm440 0h160v-160H620v160ZM180-180h160v-160H180v160Zm440 0h160v-160H620v160Z\"/>\n",
              "  </svg>\n",
              "    </button>\n",
              "\n",
              "  <style>\n",
              "    .colab-df-container {\n",
              "      display:flex;\n",
              "      gap: 12px;\n",
              "    }\n",
              "\n",
              "    .colab-df-convert {\n",
              "      background-color: #E8F0FE;\n",
              "      border: none;\n",
              "      border-radius: 50%;\n",
              "      cursor: pointer;\n",
              "      display: none;\n",
              "      fill: #1967D2;\n",
              "      height: 32px;\n",
              "      padding: 0 0 0 0;\n",
              "      width: 32px;\n",
              "    }\n",
              "\n",
              "    .colab-df-convert:hover {\n",
              "      background-color: #E2EBFA;\n",
              "      box-shadow: 0px 1px 2px rgba(60, 64, 67, 0.3), 0px 1px 3px 1px rgba(60, 64, 67, 0.15);\n",
              "      fill: #174EA6;\n",
              "    }\n",
              "\n",
              "    .colab-df-buttons div {\n",
              "      margin-bottom: 4px;\n",
              "    }\n",
              "\n",
              "    [theme=dark] .colab-df-convert {\n",
              "      background-color: #3B4455;\n",
              "      fill: #D2E3FC;\n",
              "    }\n",
              "\n",
              "    [theme=dark] .colab-df-convert:hover {\n",
              "      background-color: #434B5C;\n",
              "      box-shadow: 0px 1px 3px 1px rgba(0, 0, 0, 0.15);\n",
              "      filter: drop-shadow(0px 1px 2px rgba(0, 0, 0, 0.3));\n",
              "      fill: #FFFFFF;\n",
              "    }\n",
              "  </style>\n",
              "\n",
              "    <script>\n",
              "      const buttonEl =\n",
<<<<<<< HEAD
              "        document.querySelector('#df-017a7b9e-f08f-4034-ae50-eb6b20e97c8b button.colab-df-convert');\n",
=======
              "        document.querySelector('#df-868b3b90-9932-42a4-b38f-09c106dfd1ae button.colab-df-convert');\n",
>>>>>>> 8588d6c7d8ea7089c2890218bcf19c63d458ab6f
              "      buttonEl.style.display =\n",
              "        google.colab.kernel.accessAllowed ? 'block' : 'none';\n",
              "\n",
              "      async function convertToInteractive(key) {\n",
<<<<<<< HEAD
              "        const element = document.querySelector('#df-017a7b9e-f08f-4034-ae50-eb6b20e97c8b');\n",
=======
              "        const element = document.querySelector('#df-868b3b90-9932-42a4-b38f-09c106dfd1ae');\n",
>>>>>>> 8588d6c7d8ea7089c2890218bcf19c63d458ab6f
              "        const dataTable =\n",
              "          await google.colab.kernel.invokeFunction('convertToInteractive',\n",
              "                                                    [key], {});\n",
              "        if (!dataTable) return;\n",
              "\n",
              "        const docLinkHtml = 'Like what you see? Visit the ' +\n",
              "          '<a target=\"_blank\" href=https://colab.research.google.com/notebooks/data_table.ipynb>data table notebook</a>'\n",
              "          + ' to learn more about interactive tables.';\n",
              "        element.innerHTML = '';\n",
              "        dataTable['output_type'] = 'display_data';\n",
              "        await google.colab.output.renderOutput(dataTable, element);\n",
              "        const docLink = document.createElement('div');\n",
              "        docLink.innerHTML = docLinkHtml;\n",
              "        element.appendChild(docLink);\n",
              "      }\n",
              "    </script>\n",
              "  </div>\n",
              "\n",
              "\n",
<<<<<<< HEAD
              "<div id=\"df-2c33781d-ca1e-4473-a871-0fe5368d1a0f\">\n",
              "  <button class=\"colab-df-quickchart\" onclick=\"quickchart('df-2c33781d-ca1e-4473-a871-0fe5368d1a0f')\"\n",
=======
              "<div id=\"df-08c07f44-b54e-46eb-a800-cafe4b2ec686\">\n",
              "  <button class=\"colab-df-quickchart\" onclick=\"quickchart('df-08c07f44-b54e-46eb-a800-cafe4b2ec686')\"\n",
>>>>>>> 8588d6c7d8ea7089c2890218bcf19c63d458ab6f
              "            title=\"Suggest charts\"\n",
              "            style=\"display:none;\">\n",
              "\n",
              "<svg xmlns=\"http://www.w3.org/2000/svg\" height=\"24px\"viewBox=\"0 0 24 24\"\n",
              "     width=\"24px\">\n",
              "    <g>\n",
              "        <path d=\"M19 3H5c-1.1 0-2 .9-2 2v14c0 1.1.9 2 2 2h14c1.1 0 2-.9 2-2V5c0-1.1-.9-2-2-2zM9 17H7v-7h2v7zm4 0h-2V7h2v10zm4 0h-2v-4h2v4z\"/>\n",
              "    </g>\n",
              "</svg>\n",
              "  </button>\n",
              "\n",
              "<style>\n",
              "  .colab-df-quickchart {\n",
              "      --bg-color: #E8F0FE;\n",
              "      --fill-color: #1967D2;\n",
              "      --hover-bg-color: #E2EBFA;\n",
              "      --hover-fill-color: #174EA6;\n",
              "      --disabled-fill-color: #AAA;\n",
              "      --disabled-bg-color: #DDD;\n",
              "  }\n",
              "\n",
              "  [theme=dark] .colab-df-quickchart {\n",
              "      --bg-color: #3B4455;\n",
              "      --fill-color: #D2E3FC;\n",
              "      --hover-bg-color: #434B5C;\n",
              "      --hover-fill-color: #FFFFFF;\n",
              "      --disabled-bg-color: #3B4455;\n",
              "      --disabled-fill-color: #666;\n",
              "  }\n",
              "\n",
              "  .colab-df-quickchart {\n",
              "    background-color: var(--bg-color);\n",
              "    border: none;\n",
              "    border-radius: 50%;\n",
              "    cursor: pointer;\n",
              "    display: none;\n",
              "    fill: var(--fill-color);\n",
              "    height: 32px;\n",
              "    padding: 0;\n",
              "    width: 32px;\n",
              "  }\n",
              "\n",
              "  .colab-df-quickchart:hover {\n",
              "    background-color: var(--hover-bg-color);\n",
              "    box-shadow: 0 1px 2px rgba(60, 64, 67, 0.3), 0 1px 3px 1px rgba(60, 64, 67, 0.15);\n",
              "    fill: var(--button-hover-fill-color);\n",
              "  }\n",
              "\n",
              "  .colab-df-quickchart-complete:disabled,\n",
              "  .colab-df-quickchart-complete:disabled:hover {\n",
              "    background-color: var(--disabled-bg-color);\n",
              "    fill: var(--disabled-fill-color);\n",
              "    box-shadow: none;\n",
              "  }\n",
              "\n",
              "  .colab-df-spinner {\n",
              "    border: 2px solid var(--fill-color);\n",
              "    border-color: transparent;\n",
              "    border-bottom-color: var(--fill-color);\n",
              "    animation:\n",
              "      spin 1s steps(1) infinite;\n",
              "  }\n",
              "\n",
              "  @keyframes spin {\n",
              "    0% {\n",
              "      border-color: transparent;\n",
              "      border-bottom-color: var(--fill-color);\n",
              "      border-left-color: var(--fill-color);\n",
              "    }\n",
              "    20% {\n",
              "      border-color: transparent;\n",
              "      border-left-color: var(--fill-color);\n",
              "      border-top-color: var(--fill-color);\n",
              "    }\n",
              "    30% {\n",
              "      border-color: transparent;\n",
              "      border-left-color: var(--fill-color);\n",
              "      border-top-color: var(--fill-color);\n",
              "      border-right-color: var(--fill-color);\n",
              "    }\n",
              "    40% {\n",
              "      border-color: transparent;\n",
              "      border-right-color: var(--fill-color);\n",
              "      border-top-color: var(--fill-color);\n",
              "    }\n",
              "    60% {\n",
              "      border-color: transparent;\n",
              "      border-right-color: var(--fill-color);\n",
              "    }\n",
              "    80% {\n",
              "      border-color: transparent;\n",
              "      border-right-color: var(--fill-color);\n",
              "      border-bottom-color: var(--fill-color);\n",
              "    }\n",
              "    90% {\n",
              "      border-color: transparent;\n",
              "      border-bottom-color: var(--fill-color);\n",
              "    }\n",
              "  }\n",
              "</style>\n",
              "\n",
              "  <script>\n",
              "    async function quickchart(key) {\n",
              "      const quickchartButtonEl =\n",
              "        document.querySelector('#' + key + ' button');\n",
              "      quickchartButtonEl.disabled = true;  // To prevent multiple clicks.\n",
              "      quickchartButtonEl.classList.add('colab-df-spinner');\n",
              "      try {\n",
              "        const charts = await google.colab.kernel.invokeFunction(\n",
              "            'suggestCharts', [key], {});\n",
              "      } catch (error) {\n",
              "        console.error('Error during call to suggestCharts:', error);\n",
              "      }\n",
              "      quickchartButtonEl.classList.remove('colab-df-spinner');\n",
              "      quickchartButtonEl.classList.add('colab-df-quickchart-complete');\n",
              "    }\n",
              "    (() => {\n",
              "      let quickchartButtonEl =\n",
<<<<<<< HEAD
              "        document.querySelector('#df-2c33781d-ca1e-4473-a871-0fe5368d1a0f button');\n",
=======
              "        document.querySelector('#df-08c07f44-b54e-46eb-a800-cafe4b2ec686 button');\n",
>>>>>>> 8588d6c7d8ea7089c2890218bcf19c63d458ab6f
              "      quickchartButtonEl.style.display =\n",
              "        google.colab.kernel.accessAllowed ? 'block' : 'none';\n",
              "    })();\n",
              "  </script>\n",
              "</div>\n",
              "\n",
              "    </div>\n",
              "  </div>\n"
            ],
            "application/vnd.google.colaboratory.intrinsic+json": {
              "type": "dataframe",
              "variable_name": "df",
              "summary": "{\n  \"name\": \"df\",\n  \"rows\": 891,\n  \"fields\": [\n    {\n      \"column\": \"PassengerId\",\n      \"properties\": {\n        \"dtype\": \"number\",\n        \"std\": 257,\n        \"min\": 1,\n        \"max\": 891,\n        \"num_unique_values\": 891,\n        \"samples\": [\n          710,\n          440,\n          841\n        ],\n        \"semantic_type\": \"\",\n        \"description\": \"\"\n      }\n    },\n    {\n      \"column\": \"Survived\",\n      \"properties\": {\n        \"dtype\": \"number\",\n        \"std\": 0,\n        \"min\": 0,\n        \"max\": 1,\n        \"num_unique_values\": 2,\n        \"samples\": [\n          1,\n          0\n        ],\n        \"semantic_type\": \"\",\n        \"description\": \"\"\n      }\n    },\n    {\n      \"column\": \"Pclass\",\n      \"properties\": {\n        \"dtype\": \"number\",\n        \"std\": 0,\n        \"min\": 1,\n        \"max\": 3,\n        \"num_unique_values\": 3,\n        \"samples\": [\n          3,\n          1\n        ],\n        \"semantic_type\": \"\",\n        \"description\": \"\"\n      }\n    },\n    {\n      \"column\": \"Name\",\n      \"properties\": {\n        \"dtype\": \"string\",\n        \"num_unique_values\": 891,\n        \"samples\": [\n          \"Moubarek, Master. Halim Gonios (\\\"William George\\\")\",\n          \"Kvillner, Mr. Johan Henrik Johannesson\"\n        ],\n        \"semantic_type\": \"\",\n        \"description\": \"\"\n      }\n    },\n    {\n      \"column\": \"Sex\",\n      \"properties\": {\n        \"dtype\": \"category\",\n        \"num_unique_values\": 2,\n        \"samples\": [\n          \"female\",\n          \"male\"\n        ],\n        \"semantic_type\": \"\",\n        \"description\": \"\"\n      }\n    },\n    {\n      \"column\": \"Age\",\n      \"properties\": {\n        \"dtype\": \"number\",\n        \"std\": 14.526497332334044,\n        \"min\": 0.42,\n        \"max\": 80.0,\n        \"num_unique_values\": 88,\n        \"samples\": [\n          0.75,\n          22.0\n        ],\n        \"semantic_type\": \"\",\n        \"description\": \"\"\n      }\n    },\n    {\n      \"column\": \"SibSp\",\n      \"properties\": {\n        \"dtype\": \"number\",\n        \"std\": 1,\n        \"min\": 0,\n        \"max\": 8,\n        \"num_unique_values\": 7,\n        \"samples\": [\n          1,\n          0\n        ],\n        \"semantic_type\": \"\",\n        \"description\": \"\"\n      }\n    },\n    {\n      \"column\": \"Parch\",\n      \"properties\": {\n        \"dtype\": \"number\",\n        \"std\": 0,\n        \"min\": 0,\n        \"max\": 6,\n        \"num_unique_values\": 7,\n        \"samples\": [\n          0,\n          1\n        ],\n        \"semantic_type\": \"\",\n        \"description\": \"\"\n      }\n    },\n    {\n      \"column\": \"Ticket\",\n      \"properties\": {\n        \"dtype\": \"string\",\n        \"num_unique_values\": 681,\n        \"samples\": [\n          \"11774\",\n          \"248740\"\n        ],\n        \"semantic_type\": \"\",\n        \"description\": \"\"\n      }\n    },\n    {\n      \"column\": \"Fare\",\n      \"properties\": {\n        \"dtype\": \"number\",\n        \"std\": 49.693428597180905,\n        \"min\": 0.0,\n        \"max\": 512.3292,\n        \"num_unique_values\": 248,\n        \"samples\": [\n          11.2417,\n          51.8625\n        ],\n        \"semantic_type\": \"\",\n        \"description\": \"\"\n      }\n    },\n    {\n      \"column\": \"Cabin\",\n      \"properties\": {\n        \"dtype\": \"category\",\n        \"num_unique_values\": 147,\n        \"samples\": [\n          \"D45\",\n          \"B49\"\n        ],\n        \"semantic_type\": \"\",\n        \"description\": \"\"\n      }\n    },\n    {\n      \"column\": \"Embarked\",\n      \"properties\": {\n        \"dtype\": \"category\",\n        \"num_unique_values\": 3,\n        \"samples\": [\n          \"S\",\n          \"C\"\n        ],\n        \"semantic_type\": \"\",\n        \"description\": \"\"\n      }\n    }\n  ]\n}"
            }
          },
          "metadata": {},
<<<<<<< HEAD
          "execution_count": 6
        }
      ],
      "source": [
        "import pandas as pd\n",
        "df = pd.read_csv(\"train.csv\")\n",
        "df.head(1000)"
      ]
    }
  ]
}
=======
          "execution_count": 38
        }
      ]
    },
    {
      "cell_type": "markdown",
      "source": [
        "Passo 2: Mostrando a qualidade dos dados"
      ],
      "metadata": {
        "id": "Offi97tgKVnw"
      }
    },
    {
      "cell_type": "code",
      "source": [
        "df.info()"
      ],
      "metadata": {
        "id": "VejxBnQxGuqQ",
        "outputId": "8c66fdf2-fac9-4d8e-cff1-6bee443fc5e9",
        "colab": {
          "base_uri": "https://localhost:8080/"
        }
      },
      "execution_count": 39,
      "outputs": [
        {
          "output_type": "stream",
          "name": "stdout",
          "text": [
            "<class 'pandas.core.frame.DataFrame'>\n",
            "RangeIndex: 891 entries, 0 to 890\n",
            "Data columns (total 12 columns):\n",
            " #   Column       Non-Null Count  Dtype  \n",
            "---  ------       --------------  -----  \n",
            " 0   PassengerId  891 non-null    int64  \n",
            " 1   Survived     891 non-null    int64  \n",
            " 2   Pclass       891 non-null    int64  \n",
            " 3   Name         891 non-null    object \n",
            " 4   Sex          891 non-null    object \n",
            " 5   Age          714 non-null    float64\n",
            " 6   SibSp        891 non-null    int64  \n",
            " 7   Parch        891 non-null    int64  \n",
            " 8   Ticket       891 non-null    object \n",
            " 9   Fare         891 non-null    float64\n",
            " 10  Cabin        204 non-null    object \n",
            " 11  Embarked     889 non-null    object \n",
            "dtypes: float64(2), int64(5), object(5)\n",
            "memory usage: 83.7+ KB\n"
          ]
        }
      ]
    },
    {
      "cell_type": "markdown",
      "source": [
        "Passo 3: Transformação dos dados, pois os Dtypes não estão condisentes.\n",
        "\n",
        "Por que essas mudanças?\n",
        "Survived como bool → Melhora a interpretação dos dados (0 = False, 1 = True).\n",
        "category para Sex, Embarked e Cabin → Reduz o consumo de memória e melhora performance ao trabalhar com valores categóricos."
      ],
      "metadata": {
        "id": "L1McxeEoWsGk"
      }
    },
    {
      "cell_type": "code",
      "source": [
        "# Converter colunas para tipos mais adequados\n",
        "df[\"Survived\"] = df[\"Survived\"].astype(bool)  # 0 e 1 viram True e False\n",
        "df[\"Sex\"] = df[\"Sex\"].astype(\"category\")  # Reduz o uso de memória\n",
        "df[\"Embarked\"] = df[\"Embarked\"].astype(\"category\")\n",
        "df[\"Cabin\"] = df[\"Cabin\"].astype(\"category\")\n",
        "df.info()"
      ],
      "metadata": {
        "id": "h-aJsItGZ3Yc",
        "outputId": "36d33f83-6d94-4a14-89e3-7b2143c72d2e",
        "colab": {
          "base_uri": "https://localhost:8080/"
        }
      },
      "execution_count": 40,
      "outputs": [
        {
          "output_type": "stream",
          "name": "stdout",
          "text": [
            "<class 'pandas.core.frame.DataFrame'>\n",
            "RangeIndex: 891 entries, 0 to 890\n",
            "Data columns (total 12 columns):\n",
            " #   Column       Non-Null Count  Dtype   \n",
            "---  ------       --------------  -----   \n",
            " 0   PassengerId  891 non-null    int64   \n",
            " 1   Survived     891 non-null    bool    \n",
            " 2   Pclass       891 non-null    int64   \n",
            " 3   Name         891 non-null    object  \n",
            " 4   Sex          891 non-null    category\n",
            " 5   Age          714 non-null    float64 \n",
            " 6   SibSp        891 non-null    int64   \n",
            " 7   Parch        891 non-null    int64   \n",
            " 8   Ticket       891 non-null    object  \n",
            " 9   Fare         891 non-null    float64 \n",
            " 10  Cabin        204 non-null    category\n",
            " 11  Embarked     889 non-null    category\n",
            "dtypes: bool(1), category(3), float64(2), int64(4), object(2)\n",
            "memory usage: 65.6+ KB\n"
          ]
        }
      ]
    },
    {
      "cell_type": "markdown",
      "source": [
        "Passo 4: Ainda em transformações vamos analisar a quantidade de nulos nos dados."
      ],
      "metadata": {
        "id": "rRwrawO9bQx2"
      }
    },
    {
      "cell_type": "code",
      "source": [
        "df.isnull().sum()"
      ],
      "metadata": {
        "id": "i_r1HzlLLQRQ",
        "outputId": "cdc63f00-5c54-4e54-898b-66f2e7e7c266",
        "colab": {
          "base_uri": "https://localhost:8080/",
          "height": 460
        }
      },
      "execution_count": 41,
      "outputs": [
        {
          "output_type": "execute_result",
          "data": {
            "text/plain": [
              "PassengerId      0\n",
              "Survived         0\n",
              "Pclass           0\n",
              "Name             0\n",
              "Sex              0\n",
              "Age            177\n",
              "SibSp            0\n",
              "Parch            0\n",
              "Ticket           0\n",
              "Fare             0\n",
              "Cabin          687\n",
              "Embarked         2\n",
              "dtype: int64"
            ],
            "text/html": [
              "<div>\n",
              "<style scoped>\n",
              "    .dataframe tbody tr th:only-of-type {\n",
              "        vertical-align: middle;\n",
              "    }\n",
              "\n",
              "    .dataframe tbody tr th {\n",
              "        vertical-align: top;\n",
              "    }\n",
              "\n",
              "    .dataframe thead th {\n",
              "        text-align: right;\n",
              "    }\n",
              "</style>\n",
              "<table border=\"1\" class=\"dataframe\">\n",
              "  <thead>\n",
              "    <tr style=\"text-align: right;\">\n",
              "      <th></th>\n",
              "      <th>0</th>\n",
              "    </tr>\n",
              "  </thead>\n",
              "  <tbody>\n",
              "    <tr>\n",
              "      <th>PassengerId</th>\n",
              "      <td>0</td>\n",
              "    </tr>\n",
              "    <tr>\n",
              "      <th>Survived</th>\n",
              "      <td>0</td>\n",
              "    </tr>\n",
              "    <tr>\n",
              "      <th>Pclass</th>\n",
              "      <td>0</td>\n",
              "    </tr>\n",
              "    <tr>\n",
              "      <th>Name</th>\n",
              "      <td>0</td>\n",
              "    </tr>\n",
              "    <tr>\n",
              "      <th>Sex</th>\n",
              "      <td>0</td>\n",
              "    </tr>\n",
              "    <tr>\n",
              "      <th>Age</th>\n",
              "      <td>177</td>\n",
              "    </tr>\n",
              "    <tr>\n",
              "      <th>SibSp</th>\n",
              "      <td>0</td>\n",
              "    </tr>\n",
              "    <tr>\n",
              "      <th>Parch</th>\n",
              "      <td>0</td>\n",
              "    </tr>\n",
              "    <tr>\n",
              "      <th>Ticket</th>\n",
              "      <td>0</td>\n",
              "    </tr>\n",
              "    <tr>\n",
              "      <th>Fare</th>\n",
              "      <td>0</td>\n",
              "    </tr>\n",
              "    <tr>\n",
              "      <th>Cabin</th>\n",
              "      <td>687</td>\n",
              "    </tr>\n",
              "    <tr>\n",
              "      <th>Embarked</th>\n",
              "      <td>2</td>\n",
              "    </tr>\n",
              "  </tbody>\n",
              "</table>\n",
              "</div><br><label><b>dtype:</b> int64</label>"
            ]
          },
          "metadata": {},
          "execution_count": 41
        }
      ]
    },
    {
      "cell_type": "code",
      "source": [
        "import seaborn as sns\n",
        "import matplotlib.pyplot as plt\n",
        "\n",
        "plt.figure(figsize=(10,6))\n",
        "sns.heatmap(df.isnull(), cmap=\"viridis\", cbar=False, yticklabels=False)\n",
        "plt.title(\"Valores Nulos no Dataset\")\n",
        "plt.show()"
      ],
      "metadata": {
        "id": "Z6AOIXhzLW1I",
        "outputId": "b4e86f1b-5f54-41aa-9f2e-6cde89fa9c44",
        "colab": {
          "base_uri": "https://localhost:8080/",
          "height": 614
        }
      },
      "execution_count": 42,
      "outputs": [
        {
          "output_type": "display_data",
          "data": {
            "text/plain": [
              "<Figure size 1000x600 with 1 Axes>"
            ],
            "image/png": "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\n"
          },
          "metadata": {}
        }
      ]
    },
    {
      "cell_type": "markdown",
      "source": [
        "Passo 5: Tratamento dos nulos.\n",
        "Análise dos Valores Nulo\n",
        "\n",
        "Age -\t[177\t~19.9%]\tImportante para análises, pode preencher com a mediana ou agrupar por Pclass e Sex.\n",
        "\n",
        "Cabin -\t[687\t~77.1%]\tMuitos nulos! Pode descartar ou criar uma nova variável indicando se o passageiro tem ou não cabine.\n",
        "\n",
        "Embarked -\t[2\t0.2%]\tPoucos nulos, pode preencher com o valor mais frequente (moda)."
      ],
      "metadata": {
        "id": "yJJ5KmQbcP9M"
      }
    },
    {
      "cell_type": "code",
      "source": [
        "df[\"Age\"].fillna(df[\"Age\"].median(), inplace=True)#Preencher Age com a mediana (melhor que a média, pois evita distorções)\n",
        "df[\"HasCabin\"] = df[\"Cabin\"].notnull().astype(int)  # 1 = tem cabine, 0 = não tem Criar uma nova coluna HasCabin para indicar se o passageiro tinha cabine\n",
        "df.drop(columns=[\"Cabin\"], inplace=True) #E depois podemos remover a coluna original\n",
        "df[\"Embarked\"].fillna(df[\"Embarked\"].mode()[0], inplace=True) #Preencher Embarked com a moda (porto mais comum)\n"
      ],
      "metadata": {
        "id": "Awa07PfvcVTz",
        "outputId": "b9cdfaf1-c7ce-4aae-b77a-bc1ebed503ee",
        "colab": {
          "base_uri": "https://localhost:8080/"
        }
      },
      "execution_count": 43,
      "outputs": [
        {
          "output_type": "stream",
          "name": "stderr",
          "text": [
            "<ipython-input-43-99eb243a8578>:1: FutureWarning: A value is trying to be set on a copy of a DataFrame or Series through chained assignment using an inplace method.\n",
            "The behavior will change in pandas 3.0. This inplace method will never work because the intermediate object on which we are setting values always behaves as a copy.\n",
            "\n",
            "For example, when doing 'df[col].method(value, inplace=True)', try using 'df.method({col: value}, inplace=True)' or df[col] = df[col].method(value) instead, to perform the operation inplace on the original object.\n",
            "\n",
            "\n",
            "  df[\"Age\"].fillna(df[\"Age\"].median(), inplace=True)#Preencher Age com a mediana (melhor que a média, pois evita distorções)\n",
            "<ipython-input-43-99eb243a8578>:4: FutureWarning: A value is trying to be set on a copy of a DataFrame or Series through chained assignment using an inplace method.\n",
            "The behavior will change in pandas 3.0. This inplace method will never work because the intermediate object on which we are setting values always behaves as a copy.\n",
            "\n",
            "For example, when doing 'df[col].method(value, inplace=True)', try using 'df.method({col: value}, inplace=True)' or df[col] = df[col].method(value) instead, to perform the operation inplace on the original object.\n",
            "\n",
            "\n",
            "  df[\"Embarked\"].fillna(df[\"Embarked\"].mode()[0], inplace=True) #Preencher Embarked com a moda (porto mais comum)\n"
          ]
        }
      ]
    },
    {
      "cell_type": "code",
      "source": [
        "plt.figure(figsize=(10,6))\n",
        "sns.heatmap(df.isnull(), cmap=\"viridis\", cbar=False, yticklabels=False)\n",
        "plt.title(\"Valores Nulos no Dataset Após Tratamento\")\n",
        "plt.show()\n"
      ],
      "metadata": {
        "id": "akCQcCSZducf",
        "outputId": "5d518113-0d0a-443c-93ac-629d4e580a7f",
        "colab": {
          "base_uri": "https://localhost:8080/",
          "height": 615
        }
      },
      "execution_count": 44,
      "outputs": [
        {
          "output_type": "display_data",
          "data": {
            "text/plain": [
              "<Figure size 1000x600 with 1 Axes>"
            ],
            "image/png": "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\n"
          },
          "metadata": {}
        }
      ]
    },
    {
      "cell_type": "code",
      "source": [
        "import seaborn as sns\n",
        "import matplotlib.pyplot as plt\n",
        "\n",
        "plt.figure(figsize=(10,5))\n",
        "sns.boxplot(x=df[\"Fare\"])\n",
        "plt.title(\"Distribuição da Tarifa (Fare)\")\n",
        "plt.show()\n"
      ],
      "metadata": {
        "id": "lzFRn1e0e983",
        "outputId": "77b2a90c-9d7e-4564-b118-016fcc3b3edb",
        "colab": {
          "base_uri": "https://localhost:8080/",
          "height": 487
        }
      },
      "execution_count": 45,
      "outputs": [
        {
          "output_type": "display_data",
          "data": {
            "text/plain": [
              "<Figure size 1000x500 with 1 Axes>"
            ],
            "image/png": "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\n"
          },
          "metadata": {}
        }
      ]
    },
    {
      "cell_type": "code",
      "source": [
        "df[\"Fare\"] = df[\"Fare\"].clip(upper=df[\"Fare\"].quantile(0.95))  # Limita ao 95º percentil"
      ],
      "metadata": {
        "id": "kdLrJkvZfMCI"
      },
      "execution_count": 46,
      "outputs": []
    },
    {
      "cell_type": "code",
      "source": [
        "df[\"IsChild\"] = df[\"Age\"] < 18  # Considera crianças menores de 18 anos"
      ],
      "metadata": {
        "id": "JP0cth4WfWZT"
      },
      "execution_count": 47,
      "outputs": []
    },
    {
      "cell_type": "code",
      "source": [
        "plt.figure(figsize=(10,5))\n",
        "sns.boxplot(x=df[\"Fare\"])\n",
        "plt.title(\"Distribuição da Tarifa (Fare)\")\n",
        "plt.show()"
      ],
      "metadata": {
        "id": "MtGwS1GZfaXr",
        "outputId": "bcabcac8-e21c-4f1a-cc29-09f2a2894038",
        "colab": {
          "base_uri": "https://localhost:8080/",
          "height": 487
        }
      },
      "execution_count": 48,
      "outputs": [
        {
          "output_type": "display_data",
          "data": {
            "text/plain": [
              "<Figure size 1000x500 with 1 Axes>"
            ],
            "image/png": "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\n"
          },
          "metadata": {}
        }
      ]
    }
  ]
}
>>>>>>> 8588d6c7d8ea7089c2890218bcf19c63d458ab6f
