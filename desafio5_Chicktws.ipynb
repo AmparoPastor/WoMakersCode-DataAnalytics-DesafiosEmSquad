{
  "nbformat": 4,
  "nbformat_minor": 0,
  "metadata": {
    "colab": {
      "provenance": [],
      "include_colab_link": true
    },
    "kernelspec": {
      "name": "python3",
      "display_name": "Python 3"
    },
    "language_info": {
      "name": "python"
    }
  },
  "cells": [
    {
      "cell_type": "markdown",
      "metadata": {
        "id": "view-in-github",
        "colab_type": "text"
      },
      "source": [
        "<a href=\"https://colab.research.google.com/github/devLarissaRodrigues/WoMakersCode-DataAnalytics-Desafio1/blob/desafio5-Chicktws/desafio5_Chicktws.ipynb\" target=\"_parent\"><img src=\"https://colab.research.google.com/assets/colab-badge.svg\" alt=\"Open In Colab\"/></a>"
      ]
    },
    {
      "cell_type": "code",
      "execution_count": 2,
      "metadata": {
        "id": "JPiwsnEtE2te",
        "outputId": "f9efdb93-eef0-444d-8db4-fcf4174c4b55",
        "colab": {
          "base_uri": "https://localhost:8080/"
        },
        "collapsed": true
      },
      "outputs": [
        {
          "output_type": "stream",
          "name": "stdout",
          "text": [
            "Collecting pydataset\n",
            "  Downloading pydataset-0.2.0.tar.gz (15.9 MB)\n",
            "\u001b[2K     \u001b[90m━━━━━━━━━━━━━━━━━━━━━━━━━━━━━━━━━━━━━━━━\u001b[0m \u001b[32m15.9/15.9 MB\u001b[0m \u001b[31m17.5 MB/s\u001b[0m eta \u001b[36m0:00:00\u001b[0m\n",
            "\u001b[?25h  Preparing metadata (setup.py) ... \u001b[?25l\u001b[?25hdone\n",
            "Requirement already satisfied: pandas in /usr/local/lib/python3.11/dist-packages (from pydataset) (2.2.2)\n",
            "Requirement already satisfied: numpy>=1.23.2 in /usr/local/lib/python3.11/dist-packages (from pandas->pydataset) (1.26.4)\n",
            "Requirement already satisfied: python-dateutil>=2.8.2 in /usr/local/lib/python3.11/dist-packages (from pandas->pydataset) (2.8.2)\n",
            "Requirement already satisfied: pytz>=2020.1 in /usr/local/lib/python3.11/dist-packages (from pandas->pydataset) (2025.1)\n",
            "Requirement already satisfied: tzdata>=2022.7 in /usr/local/lib/python3.11/dist-packages (from pandas->pydataset) (2025.1)\n",
            "Requirement already satisfied: six>=1.5 in /usr/local/lib/python3.11/dist-packages (from python-dateutil>=2.8.2->pandas->pydataset) (1.17.0)\n",
            "Building wheels for collected packages: pydataset\n",
            "  Building wheel for pydataset (setup.py) ... \u001b[?25l\u001b[?25hdone\n",
            "  Created wheel for pydataset: filename=pydataset-0.2.0-py3-none-any.whl size=15939417 sha256=785ee9d3de79c47826f2d83d0b7f9726c29a0b325fc1eee33efef23c261e2221\n",
            "  Stored in directory: /root/.cache/pip/wheels/29/93/3f/af54c413cecaac292940342c61882d2a8848674175d0bb0889\n",
            "Successfully built pydataset\n",
            "Installing collected packages: pydataset\n",
            "Successfully installed pydataset-0.2.0\n"
          ]
        }
      ],
      "source": [
        "!pip install pydataset"
      ]
    },
    {
      "cell_type": "code",
      "source": [
        "import pandas as pd\n",
        "from pydataset import data"
      ],
      "metadata": {
        "id": "82pszL4SHMKS",
        "outputId": "1f567ca2-9c70-4ccc-a263-099e6373f439",
        "colab": {
          "base_uri": "https://localhost:8080/"
        }
      },
      "execution_count": 3,
      "outputs": [
        {
          "output_type": "stream",
          "name": "stdout",
          "text": [
            "initiated datasets repo at: /root/.pydataset/\n"
          ]
        }
      ]
    },
    {
      "cell_type": "code",
      "source": [
        "# Importando o dataset:\n",
        "df = data('chickwts')\n",
        "print(df)"
      ],
      "metadata": {
        "id": "XE32YUdBHQRj",
        "outputId": "2808e4cd-3b15-4ef1-fe3a-a788868f166a",
        "colab": {
          "base_uri": "https://localhost:8080/"
        }
      },
      "execution_count": 4,
      "outputs": [
        {
          "output_type": "stream",
          "name": "stdout",
          "text": [
            "    weight       feed\n",
            "1      179  horsebean\n",
            "2      160  horsebean\n",
            "3      136  horsebean\n",
            "4      227  horsebean\n",
            "5      217  horsebean\n",
            "6      168  horsebean\n",
            "7      108  horsebean\n",
            "8      124  horsebean\n",
            "9      143  horsebean\n",
            "10     140  horsebean\n",
            "11     309    linseed\n",
            "12     229    linseed\n",
            "13     181    linseed\n",
            "14     141    linseed\n",
            "15     260    linseed\n",
            "16     203    linseed\n",
            "17     148    linseed\n",
            "18     169    linseed\n",
            "19     213    linseed\n",
            "20     257    linseed\n",
            "21     244    linseed\n",
            "22     271    linseed\n",
            "23     243    soybean\n",
            "24     230    soybean\n",
            "25     248    soybean\n",
            "26     327    soybean\n",
            "27     329    soybean\n",
            "28     250    soybean\n",
            "29     193    soybean\n",
            "30     271    soybean\n",
            "31     316    soybean\n",
            "32     267    soybean\n",
            "33     199    soybean\n",
            "34     171    soybean\n",
            "35     158    soybean\n",
            "36     248    soybean\n",
            "37     423  sunflower\n",
            "38     340  sunflower\n",
            "39     392  sunflower\n",
            "40     339  sunflower\n",
            "41     341  sunflower\n",
            "42     226  sunflower\n",
            "43     320  sunflower\n",
            "44     295  sunflower\n",
            "45     334  sunflower\n",
            "46     322  sunflower\n",
            "47     297  sunflower\n",
            "48     318  sunflower\n",
            "49     325   meatmeal\n",
            "50     257   meatmeal\n",
            "51     303   meatmeal\n",
            "52     315   meatmeal\n",
            "53     380   meatmeal\n",
            "54     153   meatmeal\n",
            "55     263   meatmeal\n",
            "56     242   meatmeal\n",
            "57     206   meatmeal\n",
            "58     344   meatmeal\n",
            "59     258   meatmeal\n",
            "60     368     casein\n",
            "61     390     casein\n",
            "62     379     casein\n",
            "63     260     casein\n",
            "64     404     casein\n",
            "65     318     casein\n",
            "66     352     casein\n",
            "67     359     casein\n",
            "68     216     casein\n",
            "69     222     casein\n",
            "70     283     casein\n",
            "71     332     casein\n"
          ]
        }
      ]
    },
    {
      "cell_type": "code",
      "source": [
        "df.info() #analise dos dados no dataset"
      ],
      "metadata": {
        "id": "Jv5ofP497dJZ",
        "outputId": "3150bc5e-3077-4cf4-d380-8caa7f34e692",
        "colab": {
          "base_uri": "https://localhost:8080/"
        }
      },
      "execution_count": 5,
      "outputs": [
        {
          "output_type": "stream",
          "name": "stdout",
          "text": [
            "<class 'pandas.core.frame.DataFrame'>\n",
            "Index: 71 entries, 1 to 71\n",
            "Data columns (total 2 columns):\n",
            " #   Column  Non-Null Count  Dtype \n",
            "---  ------  --------------  ----- \n",
            " 0   weight  71 non-null     int64 \n",
            " 1   feed    71 non-null     object\n",
            "dtypes: int64(1), object(1)\n",
            "memory usage: 1.7+ KB\n"
          ]
        }
      ]
    },
    {
      "cell_type": "code",
      "source": [
        "#plotando analise gráfica para verificação de dados nulos no dataset\n",
        "import seaborn as sns\n",
        "import matplotlib.pyplot as plt\n",
        "\n",
        "plt.figure(figsize=(10,6))\n",
        "sns.heatmap(df.isnull(), cmap=\"viridis\", cbar=False, yticklabels=False)\n",
        "plt.title(\"Valores Nulos no Dataset\")\n",
        "plt.show()"
      ],
      "metadata": {
        "id": "WujsSKZ08V2X",
        "outputId": "3a1f9cf6-79bf-48f3-9f38-f900089c08bf",
        "colab": {
          "base_uri": "https://localhost:8080/",
          "height": 545
        }
      },
      "execution_count": 9,
      "outputs": [
        {
          "output_type": "display_data",
          "data": {
            "text/plain": [
              "<Figure size 1000x600 with 1 Axes>"
            ],
            "image/png": "[encoded data removed]"
          },
          "metadata": {}
        }
      ]
    },
    {
      "cell_type": "code",
      "source": [
        "# prompt: crie um gráfico para verificar outliers nos dados\n",
        "\n",
        "# Boxplot para identificar outliers\n",
        "plt.figure(figsize=(8, 6))\n",
        "sns.boxplot(x='weight', data=df)\n",
        "plt.title('Boxplot da Variável weight')\n",
        "plt.show()\n",
        "\n",
        "# Histograma para visualizar a distribuição dos dados\n",
        "plt.figure(figsize=(8, 6))\n",
        "sns.histplot(df['weight'], kde=True)\n",
        "plt.title('Histograma da Variável weight')\n",
        "plt.show()\n",
        "\n",
        "\n"
      ],
      "metadata": {
        "id": "J_cz4KP383dA",
        "outputId": "36a0d753-4588-4127-f312-b5bc3a69bd7e",
        "colab": {
          "base_uri": "https://localhost:8080/",
          "height": 1000
        }
      },
      "execution_count": 15,
      "outputs": [
        {
          "output_type": "display_data",
          "data": {
            "text/plain": [
              "<Figure size 800x600 with 1 Axes>"
            ],
            "image/png": "[encoded data removed]"
          },
          "metadata": {}
        },
        {
          "output_type": "display_data",
          "data": {
            "text/plain": [
              "<Figure size 800x600 with 1 Axes>"
            ],
            "image/png": "[encoded data removed]"
          },
          "metadata": {}
        }
      ]
    },
    {
      "cell_type": "code",
      "source": [
        "# 1. Calcule o peso médio dos pintinhos (weight) para cada tipo de ração (feed).\n",
        "\n",
        "df_by_feed = df.groupby('feed')['weight'].mean()\n",
        "df_by_feed"
      ],
      "metadata": {
        "id": "snps0vLVHqoD",
        "outputId": "831e3c57-b5b9-449e-9584-132d84468442",
        "colab": {
          "base_uri": "https://localhost:8080/",
          "height": 303
        }
      },
      "execution_count": 10,
      "outputs": [
        {
          "output_type": "execute_result",
          "data": {
            "text/plain": [
              "feed\n",
              "casein       323.583333\n",
              "horsebean    160.200000\n",
              "linseed      218.750000\n",
              "meatmeal     276.909091\n",
              "soybean      246.428571\n",
              "sunflower    328.916667\n",
              "Name: weight, dtype: float64"
            ],
            "text/html": [
              "<div>\n",
              "<style scoped>\n",
              "    .dataframe tbody tr th:only-of-type {\n",
              "        vertical-align: middle;\n",
              "    }\n",
              "\n",
              "    .dataframe tbody tr th {\n",
              "        vertical-align: top;\n",
              "    }\n",
              "\n",
              "    .dataframe thead th {\n",
              "        text-align: right;\n",
              "    }\n",
              "</style>\n",
              "<table border=\"1\" class=\"dataframe\">\n",
              "  <thead>\n",
              "    <tr style=\"text-align: right;\">\n",
              "      <th></th>\n",
              "      <th>weight</th>\n",
              "    </tr>\n",
              "    <tr>\n",
              "      <th>feed</th>\n",
              "      <th></th>\n",
              "    </tr>\n",
              "  </thead>\n",
              "  <tbody>\n",
              "    <tr>\n",
              "      <th>casein</th>\n",
              "      <td>323.583333</td>\n",
              "    </tr>\n",
              "    <tr>\n",
              "      <th>horsebean</th>\n",
              "      <td>160.200000</td>\n",
              "    </tr>\n",
              "    <tr>\n",
              "      <th>linseed</th>\n",
              "      <td>218.750000</td>\n",
              "    </tr>\n",
              "    <tr>\n",
              "      <th>meatmeal</th>\n",
              "      <td>276.909091</td>\n",
              "    </tr>\n",
              "    <tr>\n",
              "      <th>soybean</th>\n",
              "      <td>246.428571</td>\n",
              "    </tr>\n",
              "    <tr>\n",
              "      <th>sunflower</th>\n",
              "      <td>328.916667</td>\n",
              "    </tr>\n",
              "  </tbody>\n",
              "</table>\n",
              "</div><br><label><b>dtype:</b> float64</label>"
            ]
          },
          "metadata": {},
          "execution_count": 10
        }
      ]
    },
    {
      "cell_type": "code",
      "source": [
        "# 2. Identifique a ração que resultou no maior peso médio.\n",
        "maior_peso_medio = df_by_feed.idxmax()\n",
        "\n",
        "print(f'A ração que resultou no maior peso médio foi {maior_peso_medio}')"
      ],
      "metadata": {
        "id": "nCkROe29HuU8",
        "outputId": "adf6148e-6b6c-4b68-9fc3-7e3b1734d459",
        "colab": {
          "base_uri": "https://localhost:8080/"
        }
      },
      "execution_count": null,
      "outputs": [
        {
          "output_type": "stream",
          "name": "stdout",
          "text": [
            "A ração que resultou no maior peso médio foi sunflower\n"
          ]
        }
      ]
    },
    {
      "cell_type": "code",
      "source": [
        "# 3. Crie uma tabela que mostre o peso máximo, mínimo e médio para cada tipo de ração.\n",
        "\n",
        "df_feed_data = df.groupby('feed')['weight'].agg([('Max_weight','max'), ('Min_weight','min'), ('Average_weight','mean')])\n",
        "df_feed_data"
      ],
      "metadata": {
        "id": "Wj0uhTTJHwXl",
        "outputId": "befce34d-161c-4338-9861-6d3d5698889b",
        "colab": {
          "base_uri": "https://localhost:8080/",
          "height": 269
        }
      },
      "execution_count": null,
      "outputs": [
        {
          "output_type": "execute_result",
          "data": {
            "text/plain": [
              "           Max_weight  Min_weight  Average_weight\n",
              "feed                                             \n",
              "casein            404         216      323.583333\n",
              "horsebean         227         108      160.200000\n",
              "linseed           309         141      218.750000\n",
              "meatmeal          380         153      276.909091\n",
              "soybean           329         158      246.428571\n",
              "sunflower         423         226      328.916667"
            ],
            "text/html": [
              "\n",
              "  <div id=\"df-38d06de3-1acf-4884-8e6c-88139c46b566\" class=\"colab-df-container\">\n",
              "    <div>\n",
              "<style scoped>\n",
              "    .dataframe tbody tr th:only-of-type {\n",
              "        vertical-align: middle;\n",
              "    }\n",
              "\n",
              "    .dataframe tbody tr th {\n",
              "        vertical-align: top;\n",
              "    }\n",
              "\n",
              "    .dataframe thead th {\n",
              "        text-align: right;\n",
              "    }\n",
              "</style>\n",
              "<table border=\"1\" class=\"dataframe\">\n",
              "  <thead>\n",
              "    <tr style=\"text-align: right;\">\n",
              "      <th></th>\n",
              "      <th>Max_weight</th>\n",
              "      <th>Min_weight</th>\n",
              "      <th>Average_weight</th>\n",
              "    </tr>\n",
              "    <tr>\n",
              "      <th>feed</th>\n",
              "      <th></th>\n",
              "      <th></th>\n",
              "      <th></th>\n",
              "    </tr>\n",
              "  </thead>\n",
              "  <tbody>\n",
              "    <tr>\n",
              "      <th>casein</th>\n",
              "      <td>404</td>\n",
              "      <td>216</td>\n",
              "      <td>323.583333</td>\n",
              "    </tr>\n",
              "    <tr>\n",
              "      <th>horsebean</th>\n",
              "      <td>227</td>\n",
              "      <td>108</td>\n",
              "      <td>160.200000</td>\n",
              "    </tr>\n",
              "    <tr>\n",
              "      <th>linseed</th>\n",
              "      <td>309</td>\n",
              "      <td>141</td>\n",
              "      <td>218.750000</td>\n",
              "    </tr>\n",
              "    <tr>\n",
              "      <th>meatmeal</th>\n",
              "      <td>380</td>\n",
              "      <td>153</td>\n",
              "      <td>276.909091</td>\n",
              "    </tr>\n",
              "    <tr>\n",
              "      <th>soybean</th>\n",
              "      <td>329</td>\n",
              "      <td>158</td>\n",
              "      <td>246.428571</td>\n",
              "    </tr>\n",
              "    <tr>\n",
              "      <th>sunflower</th>\n",
              "      <td>423</td>\n",
              "      <td>226</td>\n",
              "      <td>328.916667</td>\n",
              "    </tr>\n",
              "  </tbody>\n",
              "</table>\n",
              "</div>\n",
              "    <div class=\"colab-df-buttons\">\n",
              "\n",
              "  <div class=\"colab-df-container\">\n",
              "    <button class=\"colab-df-convert\" onclick=\"convertToInteractive('df-38d06de3-1acf-4884-8e6c-88139c46b566')\"\n",
              "            title=\"Convert this dataframe to an interactive table.\"\n",
              "            style=\"display:none;\">\n",
              "\n",
              "  <svg xmlns=\"http://www.w3.org/2000/svg\" height=\"24px\" viewBox=\"0 -960 960 960\">\n",
              "    <path d=\"M120-120v-720h720v720H120Zm60-500h600v-160H180v160Zm220 220h160v-160H400v160Zm0 220h160v-160H400v160ZM180-400h160v-160H180v160Zm440 0h160v-160H620v160ZM180-180h160v-160H180v160Zm440 0h160v-160H620v160Z\"/>\n",
              "  </svg>\n",
              "    </button>\n",
              "\n",
              "  <style>\n",
              "    .colab-df-container {\n",
              "      display:flex;\n",
              "      gap: 12px;\n",
              "    }\n",
              "\n",
              "    .colab-df-convert {\n",
              "      background-color: #E8F0FE;\n",
              "      border: none;\n",
              "      border-radius: 50%;\n",
              "      cursor: pointer;\n",
              "      display: none;\n",
              "      fill: #1967D2;\n",
              "      height: 32px;\n",
              "      padding: 0 0 0 0;\n",
              "      width: 32px;\n",
              "    }\n",
              "\n",
              "    .colab-df-convert:hover {\n",
              "      background-color: #E2EBFA;\n",
              "      box-shadow: 0px 1px 2px rgba(60, 64, 67, 0.3), 0px 1px 3px 1px rgba(60, 64, 67, 0.15);\n",
              "      fill: #174EA6;\n",
              "    }\n",
              "\n",
              "    .colab-df-buttons div {\n",
              "      margin-bottom: 4px;\n",
              "    }\n",
              "\n",
              "    [theme=dark] .colab-df-convert {\n",
              "      background-color: #3B4455;\n",
              "      fill: #D2E3FC;\n",
              "    }\n",
              "\n",
              "    [theme=dark] .colab-df-convert:hover {\n",
              "      background-color: #434B5C;\n",
              "      box-shadow: 0px 1px 3px 1px rgba(0, 0, 0, 0.15);\n",
              "      filter: drop-shadow(0px 1px 2px rgba(0, 0, 0, 0.3));\n",
              "      fill: #FFFFFF;\n",
              "    }\n",
              "  </style>\n",
              "\n",
              "    <script>\n",
              "      const buttonEl =\n",
              "        document.querySelector('#df-38d06de3-1acf-4884-8e6c-88139c46b566 button.colab-df-convert');\n",
              "      buttonEl.style.display =\n",
              "        google.colab.kernel.accessAllowed ? 'block' : 'none';\n",
              "\n",
              "      async function convertToInteractive(key) {\n",
              "        const element = document.querySelector('#df-38d06de3-1acf-4884-8e6c-88139c46b566');\n",
              "        const dataTable =\n",
              "          await google.colab.kernel.invokeFunction('convertToInteractive',\n",
              "                                                    [key], {});\n",
              "        if (!dataTable) return;\n",
              "\n",
              "        const docLinkHtml = 'Like what you see? Visit the ' +\n",
              "          '<a target=\"_blank\" href=https://colab.research.google.com/notebooks/data_table.ipynb>data table notebook</a>'\n",
              "          + ' to learn more about interactive tables.';\n",
              "        element.innerHTML = '';\n",
              "        dataTable['output_type'] = 'display_data';\n",
              "        await google.colab.output.renderOutput(dataTable, element);\n",
              "        const docLink = document.createElement('div');\n",
              "        docLink.innerHTML = docLinkHtml;\n",
              "        element.appendChild(docLink);\n",
              "      }\n",
              "    </script>\n",
              "  </div>\n",
              "\n",
              "\n",
              "<div id=\"df-244bd838-d2f8-4a1a-b5cd-b6181e7b0b54\">\n",
              "  <button class=\"colab-df-quickchart\" onclick=\"quickchart('df-244bd838-d2f8-4a1a-b5cd-b6181e7b0b54')\"\n",
              "            title=\"Suggest charts\"\n",
              "            style=\"display:none;\">\n",
              "\n",
              "<svg xmlns=\"http://www.w3.org/2000/svg\" height=\"24px\"viewBox=\"0 0 24 24\"\n",
              "     width=\"24px\">\n",
              "    <g>\n",
              "        <path d=\"M19 3H5c-1.1 0-2 .9-2 2v14c0 1.1.9 2 2 2h14c1.1 0 2-.9 2-2V5c0-1.1-.9-2-2-2zM9 17H7v-7h2v7zm4 0h-2V7h2v10zm4 0h-2v-4h2v4z\"/>\n",
              "    </g>\n",
              "</svg>\n",
              "  </button>\n",
              "\n",
              "<style>\n",
              "  .colab-df-quickchart {\n",
              "      --bg-color: #E8F0FE;\n",
              "      --fill-color: #1967D2;\n",
              "      --hover-bg-color: #E2EBFA;\n",
              "      --hover-fill-color: #174EA6;\n",
              "      --disabled-fill-color: #AAA;\n",
              "      --disabled-bg-color: #DDD;\n",
              "  }\n",
              "\n",
              "  [theme=dark] .colab-df-quickchart {\n",
              "      --bg-color: #3B4455;\n",
              "      --fill-color: #D2E3FC;\n",
              "      --hover-bg-color: #434B5C;\n",
              "      --hover-fill-color: #FFFFFF;\n",
              "      --disabled-bg-color: #3B4455;\n",
              "      --disabled-fill-color: #666;\n",
              "  }\n",
              "\n",
              "  .colab-df-quickchart {\n",
              "    background-color: var(--bg-color);\n",
              "    border: none;\n",
              "    border-radius: 50%;\n",
              "    cursor: pointer;\n",
              "    display: none;\n",
              "    fill: var(--fill-color);\n",
              "    height: 32px;\n",
              "    padding: 0;\n",
              "    width: 32px;\n",
              "  }\n",
              "\n",
              "  .colab-df-quickchart:hover {\n",
              "    background-color: var(--hover-bg-color);\n",
              "    box-shadow: 0 1px 2px rgba(60, 64, 67, 0.3), 0 1px 3px 1px rgba(60, 64, 67, 0.15);\n",
              "    fill: var(--button-hover-fill-color);\n",
              "  }\n",
              "\n",
              "  .colab-df-quickchart-complete:disabled,\n",
              "  .colab-df-quickchart-complete:disabled:hover {\n",
              "    background-color: var(--disabled-bg-color);\n",
              "    fill: var(--disabled-fill-color);\n",
              "    box-shadow: none;\n",
              "  }\n",
              "\n",
              "  .colab-df-spinner {\n",
              "    border: 2px solid var(--fill-color);\n",
              "    border-color: transparent;\n",
              "    border-bottom-color: var(--fill-color);\n",
              "    animation:\n",
              "      spin 1s steps(1) infinite;\n",
              "  }\n",
              "\n",
              "  @keyframes spin {\n",
              "    0% {\n",
              "      border-color: transparent;\n",
              "      border-bottom-color: var(--fill-color);\n",
              "      border-left-color: var(--fill-color);\n",
              "    }\n",
              "    20% {\n",
              "      border-color: transparent;\n",
              "      border-left-color: var(--fill-color);\n",
              "      border-top-color: var(--fill-color);\n",
              "    }\n",
              "    30% {\n",
              "      border-color: transparent;\n",
              "      border-left-color: var(--fill-color);\n",
              "      border-top-color: var(--fill-color);\n",
              "      border-right-color: var(--fill-color);\n",
              "    }\n",
              "    40% {\n",
              "      border-color: transparent;\n",
              "      border-right-color: var(--fill-color);\n",
              "      border-top-color: var(--fill-color);\n",
              "    }\n",
              "    60% {\n",
              "      border-color: transparent;\n",
              "      border-right-color: var(--fill-color);\n",
              "    }\n",
              "    80% {\n",
              "      border-color: transparent;\n",
              "      border-right-color: var(--fill-color);\n",
              "      border-bottom-color: var(--fill-color);\n",
              "    }\n",
              "    90% {\n",
              "      border-color: transparent;\n",
              "      border-bottom-color: var(--fill-color);\n",
              "    }\n",
              "  }\n",
              "</style>\n",
              "\n",
              "  <script>\n",
              "    async function quickchart(key) {\n",
              "      const quickchartButtonEl =\n",
              "        document.querySelector('#' + key + ' button');\n",
              "      quickchartButtonEl.disabled = true;  // To prevent multiple clicks.\n",
              "      quickchartButtonEl.classList.add('colab-df-spinner');\n",
              "      try {\n",
              "        const charts = await google.colab.kernel.invokeFunction(\n",
              "            'suggestCharts', [key], {});\n",
              "      } catch (error) {\n",
              "        console.error('Error during call to suggestCharts:', error);\n",
              "      }\n",
              "      quickchartButtonEl.classList.remove('colab-df-spinner');\n",
              "      quickchartButtonEl.classList.add('colab-df-quickchart-complete');\n",
              "    }\n",
              "    (() => {\n",
              "      let quickchartButtonEl =\n",
              "        document.querySelector('#df-244bd838-d2f8-4a1a-b5cd-b6181e7b0b54 button');\n",
              "      quickchartButtonEl.style.display =\n",
              "        google.colab.kernel.accessAllowed ? 'block' : 'none';\n",
              "    })();\n",
              "  </script>\n",
              "</div>\n",
              "\n",
              "  <div id=\"id_f724b7a5-3614-46ff-ba3e-97617ef8799c\">\n",
              "    <style>\n",
              "      .colab-df-generate {\n",
              "        background-color: #E8F0FE;\n",
              "        border: none;\n",
              "        border-radius: 50%;\n",
              "        cursor: pointer;\n",
              "        display: none;\n",
              "        fill: #1967D2;\n",
              "        height: 32px;\n",
              "        padding: 0 0 0 0;\n",
              "        width: 32px;\n",
              "      }\n",
              "\n",
              "      .colab-df-generate:hover {\n",
              "        background-color: #E2EBFA;\n",
              "        box-shadow: 0px 1px 2px rgba(60, 64, 67, 0.3), 0px 1px 3px 1px rgba(60, 64, 67, 0.15);\n",
              "        fill: #174EA6;\n",
              "      }\n",
              "\n",
              "      [theme=dark] .colab-df-generate {\n",
              "        background-color: #3B4455;\n",
              "        fill: #D2E3FC;\n",
              "      }\n",
              "\n",
              "      [theme=dark] .colab-df-generate:hover {\n",
              "        background-color: #434B5C;\n",
              "        box-shadow: 0px 1px 3px 1px rgba(0, 0, 0, 0.15);\n",
              "        filter: drop-shadow(0px 1px 2px rgba(0, 0, 0, 0.3));\n",
              "        fill: #FFFFFF;\n",
              "      }\n",
              "    </style>\n",
              "    <button class=\"colab-df-generate\" onclick=\"generateWithVariable('df_feed_data')\"\n",
              "            title=\"Generate code using this dataframe.\"\n",
              "            style=\"display:none;\">\n",
              "\n",
              "  <svg xmlns=\"http://www.w3.org/2000/svg\" height=\"24px\"viewBox=\"0 0 24 24\"\n",
              "       width=\"24px\">\n",
              "    <path d=\"M7,19H8.4L18.45,9,17,7.55,7,17.6ZM5,21V16.75L18.45,3.32a2,2,0,0,1,2.83,0l1.4,1.43a1.91,1.91,0,0,1,.58,1.4,1.91,1.91,0,0,1-.58,1.4L9.25,21ZM18.45,9,17,7.55Zm-12,3A5.31,5.31,0,0,0,4.9,8.1,5.31,5.31,0,0,0,1,6.5,5.31,5.31,0,0,0,4.9,4.9,5.31,5.31,0,0,0,6.5,1,5.31,5.31,0,0,0,8.1,4.9,5.31,5.31,0,0,0,12,6.5,5.46,5.46,0,0,0,6.5,12Z\"/>\n",
              "  </svg>\n",
              "    </button>\n",
              "    <script>\n",
              "      (() => {\n",
              "      const buttonEl =\n",
              "        document.querySelector('#id_f724b7a5-3614-46ff-ba3e-97617ef8799c button.colab-df-generate');\n",
              "      buttonEl.style.display =\n",
              "        google.colab.kernel.accessAllowed ? 'block' : 'none';\n",
              "\n",
              "      buttonEl.onclick = () => {\n",
              "        google.colab.notebook.generateWithVariable('df_feed_data');\n",
              "      }\n",
              "      })();\n",
              "    </script>\n",
              "  </div>\n",
              "\n",
              "    </div>\n",
              "  </div>\n"
            ],
            "application/vnd.google.colaboratory.intrinsic+json": {
              "type": "dataframe",
              "variable_name": "df_feed_data",
              "summary": "{\n  \"name\": \"df_feed_data\",\n  \"rows\": 6,\n  \"fields\": [\n    {\n      \"column\": \"feed\",\n      \"properties\": {\n        \"dtype\": \"string\",\n        \"num_unique_values\": 6,\n        \"samples\": [\n          \"casein\",\n          \"horsebean\",\n          \"sunflower\"\n        ],\n        \"semantic_type\": \"\",\n        \"description\": \"\"\n      }\n    },\n    {\n      \"column\": \"Max_weight\",\n      \"properties\": {\n        \"dtype\": \"number\",\n        \"std\": 72,\n        \"min\": 227,\n        \"max\": 423,\n        \"num_unique_values\": 6,\n        \"samples\": [\n          404,\n          227,\n          423\n        ],\n        \"semantic_type\": \"\",\n        \"description\": \"\"\n      }\n    },\n    {\n      \"column\": \"Min_weight\",\n      \"properties\": {\n        \"dtype\": \"number\",\n        \"std\": 45,\n        \"min\": 108,\n        \"max\": 226,\n        \"num_unique_values\": 6,\n        \"samples\": [\n          216,\n          108,\n          226\n        ],\n        \"semantic_type\": \"\",\n        \"description\": \"\"\n      }\n    },\n    {\n      \"column\": \"Average_weight\",\n      \"properties\": {\n        \"dtype\": \"number\",\n        \"std\": 64.68310857363893,\n        \"min\": 160.2,\n        \"max\": 328.9166666666667,\n        \"num_unique_values\": 6,\n        \"samples\": [\n          323.5833333333333,\n          160.2,\n          328.9166666666667\n        ],\n        \"semantic_type\": \"\",\n        \"description\": \"\"\n      }\n    }\n  ]\n}"
            }
          },
          "metadata": {},
          "execution_count": 17
        }
      ]
    }
  ]
}