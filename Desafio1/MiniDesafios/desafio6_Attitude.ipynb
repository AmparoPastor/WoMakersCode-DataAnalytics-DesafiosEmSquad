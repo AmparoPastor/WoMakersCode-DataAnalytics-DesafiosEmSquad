{
  "nbformat": 4,
  "nbformat_minor": 0,
  "metadata": {
    "colab": {
      "provenance": [],
      "include_colab_link": true
    },
    "kernelspec": {
      "name": "python3",
      "display_name": "Python 3"
    },
    "language_info": {
      "name": "python"
    }
  },
  "cells": [
    {
      "cell_type": "markdown",
      "metadata": {
        "id": "view-in-github",
        "colab_type": "text"
      },
      "source": [
        "<a href=\"https://colab.research.google.com/github/devLarissaRodrigues/WoMakersCode-DataAnalytics-Desafio1/blob/desafio6-Attitude/desafio6_Attitude.ipynb\" target=\"_parent\"><img src=\"https://colab.research.google.com/assets/colab-badge.svg\" alt=\"Open In Colab\"/></a>"
      ]
    },
    {
      "cell_type": "code",
      "execution_count": 1,
      "metadata": {
        "id": "gUb4a7NsE39_",
        "outputId": "b58fcad0-8cb2-413d-8c1b-a08aa7fe4c11",
        "colab": {
          "base_uri": "https://localhost:8080/"
        }
      },
      "outputs": [
        {
          "output_type": "stream",
          "name": "stdout",
          "text": [
            "Collecting pydataset\n",
            "  Downloading pydataset-0.2.0.tar.gz (15.9 MB)\n",
            "\u001b[2K     \u001b[90m━━━━━━━━━━━━━━━━━━━━━━━━━━━━━━━━━━━━━━━━\u001b[0m \u001b[32m15.9/15.9 MB\u001b[0m \u001b[31m24.9 MB/s\u001b[0m eta \u001b[36m0:00:00\u001b[0m\n",
            "\u001b[?25h  Preparing metadata (setup.py) ... \u001b[?25l\u001b[?25hdone\n",
            "Requirement already satisfied: pandas in /usr/local/lib/python3.11/dist-packages (from pydataset) (2.2.2)\n",
            "Requirement already satisfied: numpy>=1.23.2 in /usr/local/lib/python3.11/dist-packages (from pandas->pydataset) (1.26.4)\n",
            "Requirement already satisfied: python-dateutil>=2.8.2 in /usr/local/lib/python3.11/dist-packages (from pandas->pydataset) (2.8.2)\n",
            "Requirement already satisfied: pytz>=2020.1 in /usr/local/lib/python3.11/dist-packages (from pandas->pydataset) (2025.1)\n",
            "Requirement already satisfied: tzdata>=2022.7 in /usr/local/lib/python3.11/dist-packages (from pandas->pydataset) (2025.1)\n",
            "Requirement already satisfied: six>=1.5 in /usr/local/lib/python3.11/dist-packages (from python-dateutil>=2.8.2->pandas->pydataset) (1.17.0)\n",
            "Building wheels for collected packages: pydataset\n",
            "  Building wheel for pydataset (setup.py) ... \u001b[?25l\u001b[?25hdone\n",
            "  Created wheel for pydataset: filename=pydataset-0.2.0-py3-none-any.whl size=15939417 sha256=2aad461cc537ab1a68fb35ddfe803ced533a80b8b8e9d05c53d731522fb04115\n",
            "  Stored in directory: /root/.cache/pip/wheels/29/93/3f/af54c413cecaac292940342c61882d2a8848674175d0bb0889\n",
            "Successfully built pydataset\n",
            "Installing collected packages: pydataset\n",
            "Successfully installed pydataset-0.2.0\n"
          ]
        }
      ],
      "source": [
        "!pip install pydataset"
      ]
    },
    {
      "cell_type": "code",
      "source": [
        "import pandas as pd\n",
        "from pydataset import data"
      ],
      "metadata": {
        "id": "3-0fBYwPJWfx",
        "outputId": "084d3ca9-6cfd-43c3-d6ea-5191a08e0732",
        "colab": {
          "base_uri": "https://localhost:8080/"
        }
      },
      "execution_count": 2,
      "outputs": [
        {
          "output_type": "stream",
          "name": "stdout",
          "text": [
            "initiated datasets repo at: /root/.pydataset/\n"
          ]
        }
      ]
    },
    {
      "cell_type": "code",
      "source": [
        "# Importando o dataset:\n",
        "df = data('attitude')\n",
        "print(df.head(10))"
      ],
      "metadata": {
        "id": "fG2780XJJbRj",
        "outputId": "fc2c81de-2277-48d2-c3fc-c2eda1c3655d",
        "colab": {
          "base_uri": "https://localhost:8080/"
        }
      },
      "execution_count": 19,
      "outputs": [
        {
          "output_type": "stream",
          "name": "stdout",
          "text": [
            "    rating  complaints  privileges  learning  raises  critical  advance\n",
            "1       43          51          30        39      61        92       45\n",
            "2       63          64          51        54      63        73       47\n",
            "3       71          70          68        69      76        86       48\n",
            "4       61          63          45        47      54        84       35\n",
            "5       81          78          56        66      71        83       47\n",
            "6       43          55          49        44      54        49       34\n",
            "7       58          67          42        56      66        68       35\n",
            "8       71          75          50        55      70        66       41\n",
            "9       72          82          72        67      71        83       31\n",
            "10      67          61          45        47      62        80       41\n"
          ]
        }
      ]
    },
    {
      "cell_type": "code",
      "source": [
        "# 1. Calcule a média de \"aprendizado\" (learning) por nível de motivação (rating).\n",
        "\n",
        "media_learning = df.groupby('rating')['learning'].mean()\n",
        "print(media_learning)\n"
      ],
      "metadata": {
        "id": "nopjA5b4JioP"
      },
      "execution_count": 15,
      "outputs": []
    },
    {
      "cell_type": "code",
      "source": [
        "# 2. Encontre a combinação de rating e complaints que possui o maior valor médio de aprendizado.\n",
        "\n",
        "media_learning = df.groupby(['rating', 'complaints'])['learning'].mean()\n",
        "\n",
        "maior_comb = media_learning.idxmax()\n",
        "maior_valor = media_learning.max()\n",
        "\n",
        "print(f\" Valor médio de {maior_valor:.2f}\")\n"
      ],
      "metadata": {
        "id": "Uf7pCz-eJnMy",
        "outputId": "0a6b0af4-334a-4b4d-d023-72ac79457f06",
        "colab": {
          "base_uri": "https://localhost:8080/"
        }
      },
      "execution_count": 17,
      "outputs": [
        {
          "output_type": "stream",
          "name": "stdout",
          "text": [
            " Valor médio de 75.00\n"
          ]
        }
      ]
    },
    {
      "cell_type": "code",
      "source": [
        "# 3. Qual é o nível médio de aprendizado para funcionários que receberam aumentos (raises) acima da média?\n",
        "\n",
        "media_raises = df['raises'].mean()\n",
        "\n",
        "acima_media = df[df['raises'] > media_raises]\n",
        "\n",
        "nivel_medio_aprendizado = acima_media['learning'].mean()\n",
        "\n",
        "print(f\"Nível médio: {nivel_medio_aprendizado:.2f}\")\n"
      ],
      "metadata": {
        "id": "lzojSZoqJqXk",
        "outputId": "426c270c-49b4-47c8-db17-44458b5356a8",
        "colab": {
          "base_uri": "https://localhost:8080/"
        }
      },
      "execution_count": 20,
      "outputs": [
        {
          "output_type": "stream",
          "name": "stdout",
          "text": [
            "Nível médio: 63.77\n"
          ]
        }
      ]
    }
  ]
}