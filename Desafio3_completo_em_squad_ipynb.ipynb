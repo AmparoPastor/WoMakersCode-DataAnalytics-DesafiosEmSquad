{
  "nbformat": 4,
  "nbformat_minor": 0,
  "metadata": {
    "colab": {
      "provenance": [],
      "include_colab_link": true
    },
    "kernelspec": {
      "name": "python3",
      "display_name": "Python 3"
    },
    "language_info": {
      "name": "python"
    }
  },
  "cells": [
    {
      "cell_type": "markdown",
      "metadata": {
        "id": "view-in-github",
        "colab_type": "text"
      },
      "source": [
        "<a href=\"https://colab.research.google.com/github/devLarissaRodrigues/WoMakersCode-DataAnalytics-DesafiosEmSquad/blob/main/Desafio3_completo_em_squad_ipynb.ipynb\" target=\"_parent\"><img src=\"https://colab.research.google.com/assets/colab-badge.svg\" alt=\"Open In Colab\"/></a>"
      ]
    },
    {
      "cell_type": "markdown",
      "source": [
        "## Squad: Mae C. Jemison\n",
        "\n",
        "Integrantes:\n",
        "*   Amparo Silvia Pastor Castillo Ru\n",
        "*   Cristiana Alves Moura\n",
        "*   Fernanda Monello Correa Manoel\n",
        "*   Larissa Monique de Sousa Rodrigues\n",
        "*   Raquel Nunes Matos Rios\n",
        "*   Vanelle Rabelo do Nascimento\n",
        "*   Vanessa Lima Paraizo\n",
        "*   Verônica Lima Costa\n"
      ],
      "metadata": {
        "id": "OkWsm9VpaSBt"
      }
    },
    {
      "cell_type": "markdown",
      "source": [
        "## Desafio 1: Entendendo o consumidor.\n",
        "Suponha que você trabalha em uma empresa de streaming e, com as\n",
        "mudanças no mercado, a equipe de marketing suspeita que o perfil dos\n",
        "clientes que cancelaram a assinatura mudou. Eles pediram sua ajuda para\n",
        "entender:\n",
        "\n",
        "1.   Se o perfil dos clientes que cancelam hoje é diferente do perfil dos clientes que cancelaram anteriormente.\n",
        "Dica: Fazer um comparativo dos clientes que cancelaram nos últimos 6\n",
        "meses com os que cancelaram a mais de 24 meses.\n",
        "2.   Quais são as principais diferenças entre os perfis, para que possam criar\n",
        "estratégias mais eficazes de retenção.\n",
        "Para isso, eles fornecem a base de dados clientes.csv, que contém\n",
        "informações anonimizadas sobre os clientes ao longo do tempo.\n"
      ],
      "metadata": {
        "id": "JQS9qg4Cy6TM"
      }
    },
    {
      "cell_type": "markdown",
      "source": [
        "## Etapa de ETL - Extração, Transformação e Limpeza dos dados\n",
        "\n",
        "###Importações e inserção do dataset:\n",
        "\n",
        "[Data Set Clientes](https://docs.google.com/spreadsheets/d/12umlCuYSIC4gSiBwqn1JSI1Ey3I56yKHkc4Ni8bE3yg/edit?gid=1990017453#gid=1990017453)\n",
        "\n",
        "[Canva da Apresentação](https://www.canva.com/design/DAGigNR1b2Q/rpeGuN1A2kFYUnMU9NP8Mg/edit)\n"
      ],
      "metadata": {
        "id": "RGXgZGmSyYU4"
      }
    },
    {
      "cell_type": "code",
      "execution_count": 7,
      "metadata": {
        "colab": {
          "base_uri": "https://localhost:8080/"
        },
        "id": "u_GiUT8CyQ0F",
        "outputId": "8dafc937-51b9-44d0-f0da-da61ec89fc32"
      },
      "outputs": [
        {
          "output_type": "stream",
          "name": "stdout",
          "text": [
            "   idade  tempo_assinatura_meses  frequencia_uso_mensal        regiao  \\\n",
            "0     56                      30                     27  Centro-Oeste   \n",
            "1     69                      11                      2         Norte   \n",
            "2     46                      58                     21           Sul   \n",
            "3     32                      55                      1         Norte   \n",
            "4     60                      28                     28           Sul   \n",
            "5     25                      25                     15           Sul   \n",
            "6     38                      39                      1      Nordeste   \n",
            "7     56                      33                      5           Sul   \n",
            "8     36                       1                     28       Sudeste   \n",
            "9     40                      57                     29  Centro-Oeste   \n",
            "\n",
            "   mensalidade  cancelou  engajamento  \n",
            "0        96.03         0     0.900000  \n",
            "1        91.22         1     0.181818  \n",
            "2        56.45         1     0.362069  \n",
            "3        69.61         1     0.018182  \n",
            "4        42.19         1     1.000000  \n",
            "5        35.05         1     0.600000  \n",
            "6        57.10         1     0.025641  \n",
            "7        48.27         1     0.151515  \n",
            "8        66.69         1    28.000000  \n",
            "9        26.22         1     0.508772  \n"
          ]
        }
      ],
      "source": [
        "# Importando todas as bibliotecas utilizadas no desafio:\n",
        "# Manipulação de dados\n",
        "import pandas as pd\n",
        "import numpy as np\n",
        "\n",
        "# Visualização de dados\n",
        "import matplotlib.pyplot as plt\n",
        "import seaborn as sns\n",
        "\n",
        "# Estatística e testes de hipóteses\n",
        "from scipy import stats\n",
        "import statsmodels.api as sm\n",
        "import statsmodels.stats.api as sms\n",
        "\n",
        "# Cálculo de tamanho amostral\n",
        "from statsmodels.stats.power import NormalIndPower\n",
        "from statsmodels.stats.proportion import proportion_confint\n",
        "\n",
        "# Configuração para melhor visualização dos gráficos\n",
        "sns.set_theme(style=\"whitegrid\")\n",
        "plt.style.use(\"ggplot\")\n",
        "\n",
        "url = 'https://docs.google.com/spreadsheets/d/12umlCuYSIC4gSiBwqn1JSI1Ey3I56yKHkc4Ni8bE3yg/edit?gid=1990017453#gid=1990017453'\n",
        "url = url.replace('/edit?gid=', '/export?format=csv&gid=')\n",
        "df = pd.read_csv(url)\n",
        "\n",
        "# Remover colunas desnecessárias\n",
        "df = df.drop(columns=['cliente_id'])  # Exclui a coluna 'cliente_id', pois não é relevante para a análise\n",
        "\n",
        "# Criar categorias de idade\n",
        "#bins = [18, 30, 45, 60, 80]  # Define os intervalos das faixas etárias\n",
        "#labels = ['18-29', '30-44', '45-59', '60+']  # Define os rótulos correspondentes para cada faixa etária\n",
        "#df['faixa_etaria'] = pd.cut(df['idade'], bins=bins, labels=labels, right=False)# A função `pd.cut` categoriza a idade dos clientes com base nos intervalos definidos\n",
        "\n",
        "# Criar métrica de engajamento\n",
        "df['engajamento'] = df['frequencia_uso_mensal'] / df['tempo_assinatura_meses'] # Calcula o nível de engajamento do cliente, dividindo a frequência de uso mensal pelo tempo total de assinatura\n",
        "# Quanto maior o valor, maior o engajamento do usuário com o serviço ao longo do tempo\n",
        "\n",
        "# Converter a coluna 'cancelou' para tipo booleano (1 = cancelado, 0 = ativo)\n",
        "df['cancelou'] = df['cancelou'].map({0: 1, 1: 0}).astype(int) # Agora 0 significa \"Cancelado\" e 1 significa \"Ativo\"\n",
        "\n",
        "# Verificar as transformações\n",
        "print(df.head(10))\n",
        "\n",
        "# Salvar o dataset transformado\n",
        "#df.to_csv('dados_transformados.csv', index=False)# Salva o DataFrame transformado em um arquivo CSV, sem incluir o índice, para análise posterior\n"
      ]
    },
    {
      "cell_type": "markdown",
      "source": [
        "### Etapa 1: Análise de Distribuição e Perfis\n",
        "\n",
        "\n",
        "* Analisar a distribuição de idade, tempo de assinatura, frequência de uso e região dos clientes que cancelaram nos últimos 6 meses e dos que cancelaram há mais de 24 meses.\n",
        "*  Identificar e descrever as principais diferenças entre os perfis dos clientes nesses dois períodos."
      ],
      "metadata": {
        "id": "SkABQIvEzkiS"
      }
    },
    {
      "cell_type": "code",
      "source": [
        "# Implementação do código referente à etapa 1:"
      ],
      "metadata": {
        "id": "CMRDYaU0zC2L"
      },
      "execution_count": null,
      "outputs": []
    },
    {
      "cell_type": "markdown",
      "source": [
        "### Etapa 2: Visualização de Dados\n",
        "\n",
        "*   Criar gráficos para visualizar padrões dos clientes que mantêm e cancelam a assinatura (histogramas, boxplots, gráficos de dispersão).\n",
        "*   Destacar insights visuais e possíveis tendências nos dados analisados.\n",
        "\n"
      ],
      "metadata": {
        "id": "NASjdwG10C-i"
      }
    },
    {
      "cell_type": "code",
      "source": [
        "# Implementação do código referente à etapa 2:"
      ],
      "metadata": {
        "id": "QEx775HD0FGw"
      },
      "execution_count": null,
      "outputs": []
    },
    {
      "cell_type": "markdown",
      "source": [
        "### Etapa 3: Análise de Distribuição e Perfis\n",
        "\n",
        "\n",
        "* Aplicar testes estatísticos (ex.: teste qui-quadrado, teste t, regressão logística) para verificar se há relação significativa entre o tempo de assinatura e a taxa de cancelamento.\n",
        "* Interpretar os resultados e explicar o impacto desses achados na retenção de clientes."
      ],
      "metadata": {
        "id": "pzgKJW3t0DJn"
      }
    },
    {
      "cell_type": "code",
      "source": [
        "# Implementação do código referente à etapa 3:"
      ],
      "metadata": {
        "id": "yxSzO98H0FOh"
      },
      "execution_count": null,
      "outputs": []
    },
    {
      "cell_type": "markdown",
      "source": [
        "### Etapa 4: Análise de Distribuição e Perfis\n",
        "\n",
        "\n",
        "* Calcular o tamanho da amostra necessária para obter conclusões com 95% de confiança e 2% de margem de erro. Verificar se a base informada é suficiente.\n",
        "*  Repetir o cálculo para uma margem de erro de 10% e comparar os resultados com a amostra disponível."
      ],
      "metadata": {
        "id": "qCJtEhni0DSw"
      }
    },
    {
      "cell_type": "code",
      "source": [
        "# Implementação do código referente à etapa 4:"
      ],
      "metadata": {
        "id": "VNkCN02g0FU5"
      },
      "execution_count": null,
      "outputs": []
    }
  ]
}