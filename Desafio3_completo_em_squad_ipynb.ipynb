{
  "nbformat": 4,
  "nbformat_minor": 0,
  "metadata": {
    "colab": {
      "provenance": [],
      "authorship_tag": "ABX9TyOPgZTaPA80cnJqs0JA8G7/",
      "include_colab_link": true
    },
    "kernelspec": {
      "name": "python3",
      "display_name": "Python 3"
    },
    "language_info": {
      "name": "python"
    }
  },
  "cells": [
    {
      "cell_type": "markdown",
      "metadata": {
        "id": "view-in-github",
        "colab_type": "text"
      },
      "source": [
        "<a href=\"https://colab.research.google.com/github/devLarissaRodrigues/WoMakersCode-DataAnalytics-DesafiosEmSquad/blob/main/Desafio3_completo_em_squad_ipynb.ipynb\" target=\"_parent\"><img src=\"https://colab.research.google.com/assets/colab-badge.svg\" alt=\"Open In Colab\"/></a>"
      ]
    },
    {
      "cell_type": "markdown",
      "source": [
        "## Desafio 1: Entendendo o consumidor.\n",
        "Suponha que você trabalha em uma empresa de streaming e, com as\n",
        "mudanças no mercado, a equipe de marketing suspeita que o perfil dos\n",
        "clientes que cancelaram a assinatura mudou. Eles pediram sua ajuda para\n",
        "entender:\n",
        "\n",
        "\n",
        "\n",
        "1.   Se o perfil dos clientes que cancelam hoje é diferente do perfil dos clientes que cancelaram anteriormente.\n",
        "Dica: Fazer um comparativo dos clientes que cancelaram nos últimos 6\n",
        "meses com os que cancelaram a mais de 24 meses.\n",
        "2.   Quais são as principais diferenças entre os perfis, para que possam criar\n",
        "estratégias mais eficazes de retenção.\n",
        "Para isso, eles fornecem a base de dados clientes.csv, que contém\n",
        "informações anonimizadas sobre os clientes ao longo do tempo.\n"
      ],
      "metadata": {
        "id": "JQS9qg4Cy6TM"
      }
    },
    {
      "cell_type": "markdown",
      "source": [
        "### Importações e inserção do dataset:"
      ],
      "metadata": {
        "id": "RGXgZGmSyYU4"
      }
    },
    {
      "cell_type": "code",
      "execution_count": 2,
      "metadata": {
        "colab": {
          "base_uri": "https://localhost:8080/"
        },
        "id": "u_GiUT8CyQ0F",
        "outputId": "4c02e595-8722-40e9-e0eb-a05872d7d124"
      },
      "outputs": [
        {
          "output_type": "stream",
          "name": "stdout",
          "text": [
            "   cliente_id  idade  tempo_assinatura_meses  frequencia_uso_mensal  \\\n",
            "0           1     56                      30                     27   \n",
            "1           2     69                      11                      2   \n",
            "2           3     46                      58                     21   \n",
            "3           4     32                      55                      1   \n",
            "4           5     60                      28                     28   \n",
            "\n",
            "         regiao  mensalidade  cancelou  \n",
            "0  Centro-Oeste        96.03         1  \n",
            "1         Norte        91.22         0  \n",
            "2           Sul        56.45         0  \n",
            "3         Norte        69.61         0  \n",
            "4           Sul        42.19         0  \n"
          ]
        }
      ],
      "source": [
        "import pandas as pd\n",
        "import numpy as np\n",
        "import matplotlib.pyplot as plt\n",
        "import seaborn as sns\n",
        "\n",
        "url = 'https://docs.google.com/spreadsheets/d/12umlCuYSIC4gSiBwqn1JSI1Ey3I56yKHkc4Ni8bE3yg/edit?gid=1990017453#gid=1990017453'\n",
        "url = url.replace('/edit?gid=', '/export?format=csv&gid=')\n",
        "df = pd.read_csv(url)\n",
        "print(df.head())"
      ]
    },
    {
      "cell_type": "markdown",
      "source": [
        "### Etapa 1: Análise de Distribuição e Perfis\n",
        "\n",
        "\n",
        "* Analisar a distribuição de idade, tempo de assinatura, frequência de uso e região dos clientes que cancelaram nos últimos 6 meses e dos que cancelaram há mais de 24 meses.\n",
        "*  Identificar e descrever as principais diferenças entre os perfis dos clientes nesses dois períodos."
      ],
      "metadata": {
        "id": "SkABQIvEzkiS"
      }
    },
    {
      "cell_type": "code",
      "source": [
        "# Implementação do código referente à etapa 1:"
      ],
      "metadata": {
        "id": "CMRDYaU0zC2L"
      },
      "execution_count": null,
      "outputs": []
    },
    {
      "cell_type": "markdown",
      "source": [
        "### Etapa 2: Visualização de Dados\n",
        "\n",
        "*   Criar gráficos para visualizar padrões dos clientes que mantêm e cancelam a assinatura (histogramas, boxplots, gráficos de dispersão).\n",
        "*   Destacar insights visuais e possíveis tendências nos dados analisados.\n",
        "\n"
      ],
      "metadata": {
        "id": "NASjdwG10C-i"
      }
    },
    {
      "cell_type": "code",
      "source": [
        "# Implementação do código referente à etapa 2:"
      ],
      "metadata": {
        "id": "QEx775HD0FGw"
      },
      "execution_count": null,
      "outputs": []
    },
    {
      "cell_type": "markdown",
      "source": [
        "### Etapa 3: Análise de Distribuição e Perfis\n",
        "\n",
        "\n",
        "* Aplicar testes estatísticos (ex.: teste qui-quadrado, teste t, regressão logística) para verificar se há relação significativa entre o tempo de assinatura e a taxa de cancelamento.\n",
        "* Interpretar os resultados e explicar o impacto desses achados na retenção de clientes."
      ],
      "metadata": {
        "id": "pzgKJW3t0DJn"
      }
    },
    {
      "cell_type": "code",
      "source": [
        "# Implementação do código referente à etapa 3:"
      ],
      "metadata": {
        "id": "yxSzO98H0FOh"
      },
      "execution_count": null,
      "outputs": []
    },
    {
      "cell_type": "markdown",
      "source": [
        "### Etapa 4: Análise de Distribuição e Perfis\n",
        "\n",
        "\n",
        "* Calcular o tamanho da amostra necessária para obter conclusões com 95% de confiança e 2% de margem de erro. Verificar se a base informada é suficiente.\n",
        "*  Repetir o cálculo para uma margem de erro de 10% e comparar os resultados com a amostra disponível."
      ],
      "metadata": {
        "id": "qCJtEhni0DSw"
      }
    },
    {
      "cell_type": "code",
      "source": [
        "# Implementação do código referente à etapa 4:"
      ],
      "metadata": {
        "id": "VNkCN02g0FU5"
      },
      "execution_count": null,
      "outputs": []
    }
  ]
}