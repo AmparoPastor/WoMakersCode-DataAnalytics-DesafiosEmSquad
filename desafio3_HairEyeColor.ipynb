{
  "nbformat": 4,
  "nbformat_minor": 0,
  "metadata": {
    "colab": {
      "provenance": [],
      "authorship_tag": "ABX9TyM7CRYygkbMz9bXju1OkTHA",
      "include_colab_link": true
    },
    "kernelspec": {
      "name": "python3",
      "display_name": "Python 3"
    },
    "language_info": {
      "name": "python"
    }
  },
  "cells": [
    {
      "cell_type": "markdown",
      "metadata": {
        "id": "view-in-github",
        "colab_type": "text"
      },
      "source": [
        "<a href=\"https://colab.research.google.com/github/devLarissaRodrigues/WoMakersCode-DataAnalytics-Desafio1/blob/desafio3-HairEyeColor/desafio3_HairEyeColor.ipynb\" target=\"_parent\"><img src=\"https://colab.research.google.com/assets/colab-badge.svg\" alt=\"Open In Colab\"/></a>"
      ]
    },
    {
      "cell_type": "code",
      "execution_count": null,
      "metadata": {
        "id": "bxp4AKln_-sZ"
      },
      "outputs": [],
      "source": []
    }
  ]
}